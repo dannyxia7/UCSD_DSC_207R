{
  "cells": [
    {
      "cell_type": "markdown",
      "metadata": {
        "id": "view-in-github",
        "colab_type": "text"
      },
      "source": [
        "<a href=\"https://colab.research.google.com/github/dannyxia7/UCSD_DSC_207R/blob/main/Danny_Xia_Week7_Assignment.ipynb\" target=\"_parent\"><img src=\"https://colab.research.google.com/assets/colab-badge.svg\" alt=\"Open In Colab\"/></a>"
      ]
    },
    {
      "cell_type": "markdown",
      "metadata": {
        "id": "Bl-iOXg-zp-p"
      },
      "source": [
        "# Week 7 Study Notebook\n",
        "\n",
        "# UC San Diego OMDS DSC 207"
      ]
    },
    {
      "cell_type": "markdown",
      "metadata": {
        "id": "hSB6nRNCoQKf"
      },
      "source": [
        "### Importing Libraries\n",
        "\n",
        "We will start by importing any relevant Python libraries. The code block below should be the place where you import all regular Python libraries (such as pandas, numpy, matplotlib, etc.)"
      ]
    },
    {
      "cell_type": "code",
      "execution_count": null,
      "metadata": {
        "id": "zNg3bNjjvKOO"
      },
      "outputs": [],
      "source": [
        "# Load libraries as relevant for this assignment\n",
        "import pandas as pd\n",
        "import numpy as np\n",
        "import matplotlib.pyplot as plt\n",
        "from sklearn.model_selection import train_test_split\n",
        "from sklearn.linear_model import LinearRegression\n",
        "from sklearn.metrics import mean_squared_error, r2_score"
      ]
    },
    {
      "cell_type": "markdown",
      "source": [
        "# Part 1: Regression (Consumer Goods Data and Investments Data)\n",
        "\n",
        "We will perform linear regression to use our financial data to predict projected investments."
      ],
      "metadata": {
        "id": "0lmS79uD-aRN"
      }
    },
    {
      "cell_type": "markdown",
      "metadata": {
        "id": "q2L-BwYoMPde"
      },
      "source": [
        "### 1.1 Datasets\n",
        "We'll be using the a merged [dataset](https://drive.google.com/file/d/17tyrmrUQYaiia3zY6YgQy8LIUuM37hrd/view?usp=sharing) consisting of consumer_goods and investments and try to predict the Percentage Investment using Linear Regression. The dataset can be found here. Load this dataset into a dataframe `goods_investments` and have a look at it using head, info and describe methods. [0.5 pt]<br>\n",
        "<br><br>"
      ]
    },
    {
      "cell_type": "code",
      "execution_count": null,
      "metadata": {
        "id": "KTEYSZd2QzfW"
      },
      "outputs": [],
      "source": [
        "goods_investments = pd.read_csv(\"/content/goods_investments.csv\")"
      ]
    },
    {
      "cell_type": "markdown",
      "metadata": {
        "id": "MzvhrTeaMbWu"
      },
      "source": [
        "### 1.2 Train and test split [1 pt]\n",
        "1. Shuffle your data (optional)\n",
        "2. Partition it into an 80%/20% train/test split using train_test_split.<br>\n",
        "\n",
        "Note: The store number column would not likely contribute towards a prediction. Hence, it would be better to drop the column before splitting.\n",
        "\n",
        "X_train and X_test should have these columns: `Convenience`, `Shopping`, `Specialty`, `Unsought`, `Other`<br>\n",
        "y_train and y_test should have this column: `Percentage Investment`<br>\n",
        "<br><br>"
      ]
    },
    {
      "cell_type": "code",
      "source": [
        "goods_investments.head(10)"
      ],
      "metadata": {
        "colab": {
          "base_uri": "https://localhost:8080/",
          "height": 363
        },
        "id": "hR2d6SA7tfUt",
        "outputId": "2e6c9508-0bf5-4443-fdda-b524c1fcf9b9"
      },
      "execution_count": null,
      "outputs": [
        {
          "output_type": "execute_result",
          "data": {
            "text/plain": [
              "   Store Number  Convenience  Shopping  Specialty  Unsought   Other  \\\n",
              "0          1101       301121     42712     169038     89371  296474   \n",
              "1          1101         9473       326       5276      3871    8943   \n",
              "2          1103        99476      9576      45791     44109  109323   \n",
              "3          1103        78919      6537      41600     30782   81220   \n",
              "4          1103        30401      1588      17791     11022   29601   \n",
              "5          1105        16271      3616      10175      2480   15450   \n",
              "6          1107        26826      3541      17386      5899   27921   \n",
              "7          1109        23840      3437      13858      6545   23530   \n",
              "8          1109        20582      2097      10239      8246   19199   \n",
              "9          1111        21531      2475      13280      5776   23702   \n",
              "\n",
              "   Percentage Investment  \n",
              "0                   18.8  \n",
              "1                   18.8  \n",
              "2                   15.8  \n",
              "3                   15.8  \n",
              "4                   15.8  \n",
              "5                   35.0  \n",
              "6                   25.8  \n",
              "7                   25.1  \n",
              "8                   25.1  \n",
              "9                   21.8  "
            ],
            "text/html": [
              "\n",
              "  <div id=\"df-1c30dfc5-a4ad-4ada-9ccf-61e1e1453cbe\" class=\"colab-df-container\">\n",
              "    <div>\n",
              "<style scoped>\n",
              "    .dataframe tbody tr th:only-of-type {\n",
              "        vertical-align: middle;\n",
              "    }\n",
              "\n",
              "    .dataframe tbody tr th {\n",
              "        vertical-align: top;\n",
              "    }\n",
              "\n",
              "    .dataframe thead th {\n",
              "        text-align: right;\n",
              "    }\n",
              "</style>\n",
              "<table border=\"1\" class=\"dataframe\">\n",
              "  <thead>\n",
              "    <tr style=\"text-align: right;\">\n",
              "      <th></th>\n",
              "      <th>Store Number</th>\n",
              "      <th>Convenience</th>\n",
              "      <th>Shopping</th>\n",
              "      <th>Specialty</th>\n",
              "      <th>Unsought</th>\n",
              "      <th>Other</th>\n",
              "      <th>Percentage Investment</th>\n",
              "    </tr>\n",
              "  </thead>\n",
              "  <tbody>\n",
              "    <tr>\n",
              "      <th>0</th>\n",
              "      <td>1101</td>\n",
              "      <td>301121</td>\n",
              "      <td>42712</td>\n",
              "      <td>169038</td>\n",
              "      <td>89371</td>\n",
              "      <td>296474</td>\n",
              "      <td>18.8</td>\n",
              "    </tr>\n",
              "    <tr>\n",
              "      <th>1</th>\n",
              "      <td>1101</td>\n",
              "      <td>9473</td>\n",
              "      <td>326</td>\n",
              "      <td>5276</td>\n",
              "      <td>3871</td>\n",
              "      <td>8943</td>\n",
              "      <td>18.8</td>\n",
              "    </tr>\n",
              "    <tr>\n",
              "      <th>2</th>\n",
              "      <td>1103</td>\n",
              "      <td>99476</td>\n",
              "      <td>9576</td>\n",
              "      <td>45791</td>\n",
              "      <td>44109</td>\n",
              "      <td>109323</td>\n",
              "      <td>15.8</td>\n",
              "    </tr>\n",
              "    <tr>\n",
              "      <th>3</th>\n",
              "      <td>1103</td>\n",
              "      <td>78919</td>\n",
              "      <td>6537</td>\n",
              "      <td>41600</td>\n",
              "      <td>30782</td>\n",
              "      <td>81220</td>\n",
              "      <td>15.8</td>\n",
              "    </tr>\n",
              "    <tr>\n",
              "      <th>4</th>\n",
              "      <td>1103</td>\n",
              "      <td>30401</td>\n",
              "      <td>1588</td>\n",
              "      <td>17791</td>\n",
              "      <td>11022</td>\n",
              "      <td>29601</td>\n",
              "      <td>15.8</td>\n",
              "    </tr>\n",
              "    <tr>\n",
              "      <th>5</th>\n",
              "      <td>1105</td>\n",
              "      <td>16271</td>\n",
              "      <td>3616</td>\n",
              "      <td>10175</td>\n",
              "      <td>2480</td>\n",
              "      <td>15450</td>\n",
              "      <td>35.0</td>\n",
              "    </tr>\n",
              "    <tr>\n",
              "      <th>6</th>\n",
              "      <td>1107</td>\n",
              "      <td>26826</td>\n",
              "      <td>3541</td>\n",
              "      <td>17386</td>\n",
              "      <td>5899</td>\n",
              "      <td>27921</td>\n",
              "      <td>25.8</td>\n",
              "    </tr>\n",
              "    <tr>\n",
              "      <th>7</th>\n",
              "      <td>1109</td>\n",
              "      <td>23840</td>\n",
              "      <td>3437</td>\n",
              "      <td>13858</td>\n",
              "      <td>6545</td>\n",
              "      <td>23530</td>\n",
              "      <td>25.1</td>\n",
              "    </tr>\n",
              "    <tr>\n",
              "      <th>8</th>\n",
              "      <td>1109</td>\n",
              "      <td>20582</td>\n",
              "      <td>2097</td>\n",
              "      <td>10239</td>\n",
              "      <td>8246</td>\n",
              "      <td>19199</td>\n",
              "      <td>25.1</td>\n",
              "    </tr>\n",
              "    <tr>\n",
              "      <th>9</th>\n",
              "      <td>1111</td>\n",
              "      <td>21531</td>\n",
              "      <td>2475</td>\n",
              "      <td>13280</td>\n",
              "      <td>5776</td>\n",
              "      <td>23702</td>\n",
              "      <td>21.8</td>\n",
              "    </tr>\n",
              "  </tbody>\n",
              "</table>\n",
              "</div>\n",
              "    <div class=\"colab-df-buttons\">\n",
              "\n",
              "  <div class=\"colab-df-container\">\n",
              "    <button class=\"colab-df-convert\" onclick=\"convertToInteractive('df-1c30dfc5-a4ad-4ada-9ccf-61e1e1453cbe')\"\n",
              "            title=\"Convert this dataframe to an interactive table.\"\n",
              "            style=\"display:none;\">\n",
              "\n",
              "  <svg xmlns=\"http://www.w3.org/2000/svg\" height=\"24px\" viewBox=\"0 -960 960 960\">\n",
              "    <path d=\"M120-120v-720h720v720H120Zm60-500h600v-160H180v160Zm220 220h160v-160H400v160Zm0 220h160v-160H400v160ZM180-400h160v-160H180v160Zm440 0h160v-160H620v160ZM180-180h160v-160H180v160Zm440 0h160v-160H620v160Z\"/>\n",
              "  </svg>\n",
              "    </button>\n",
              "\n",
              "  <style>\n",
              "    .colab-df-container {\n",
              "      display:flex;\n",
              "      gap: 12px;\n",
              "    }\n",
              "\n",
              "    .colab-df-convert {\n",
              "      background-color: #E8F0FE;\n",
              "      border: none;\n",
              "      border-radius: 50%;\n",
              "      cursor: pointer;\n",
              "      display: none;\n",
              "      fill: #1967D2;\n",
              "      height: 32px;\n",
              "      padding: 0 0 0 0;\n",
              "      width: 32px;\n",
              "    }\n",
              "\n",
              "    .colab-df-convert:hover {\n",
              "      background-color: #E2EBFA;\n",
              "      box-shadow: 0px 1px 2px rgba(60, 64, 67, 0.3), 0px 1px 3px 1px rgba(60, 64, 67, 0.15);\n",
              "      fill: #174EA6;\n",
              "    }\n",
              "\n",
              "    .colab-df-buttons div {\n",
              "      margin-bottom: 4px;\n",
              "    }\n",
              "\n",
              "    [theme=dark] .colab-df-convert {\n",
              "      background-color: #3B4455;\n",
              "      fill: #D2E3FC;\n",
              "    }\n",
              "\n",
              "    [theme=dark] .colab-df-convert:hover {\n",
              "      background-color: #434B5C;\n",
              "      box-shadow: 0px 1px 3px 1px rgba(0, 0, 0, 0.15);\n",
              "      filter: drop-shadow(0px 1px 2px rgba(0, 0, 0, 0.3));\n",
              "      fill: #FFFFFF;\n",
              "    }\n",
              "  </style>\n",
              "\n",
              "    <script>\n",
              "      const buttonEl =\n",
              "        document.querySelector('#df-1c30dfc5-a4ad-4ada-9ccf-61e1e1453cbe button.colab-df-convert');\n",
              "      buttonEl.style.display =\n",
              "        google.colab.kernel.accessAllowed ? 'block' : 'none';\n",
              "\n",
              "      async function convertToInteractive(key) {\n",
              "        const element = document.querySelector('#df-1c30dfc5-a4ad-4ada-9ccf-61e1e1453cbe');\n",
              "        const dataTable =\n",
              "          await google.colab.kernel.invokeFunction('convertToInteractive',\n",
              "                                                    [key], {});\n",
              "        if (!dataTable) return;\n",
              "\n",
              "        const docLinkHtml = 'Like what you see? Visit the ' +\n",
              "          '<a target=\"_blank\" href=https://colab.research.google.com/notebooks/data_table.ipynb>data table notebook</a>'\n",
              "          + ' to learn more about interactive tables.';\n",
              "        element.innerHTML = '';\n",
              "        dataTable['output_type'] = 'display_data';\n",
              "        await google.colab.output.renderOutput(dataTable, element);\n",
              "        const docLink = document.createElement('div');\n",
              "        docLink.innerHTML = docLinkHtml;\n",
              "        element.appendChild(docLink);\n",
              "      }\n",
              "    </script>\n",
              "  </div>\n",
              "\n",
              "\n",
              "<div id=\"df-a8de3230-608d-4d18-9897-1661276cc1b0\">\n",
              "  <button class=\"colab-df-quickchart\" onclick=\"quickchart('df-a8de3230-608d-4d18-9897-1661276cc1b0')\"\n",
              "            title=\"Suggest charts\"\n",
              "            style=\"display:none;\">\n",
              "\n",
              "<svg xmlns=\"http://www.w3.org/2000/svg\" height=\"24px\"viewBox=\"0 0 24 24\"\n",
              "     width=\"24px\">\n",
              "    <g>\n",
              "        <path d=\"M19 3H5c-1.1 0-2 .9-2 2v14c0 1.1.9 2 2 2h14c1.1 0 2-.9 2-2V5c0-1.1-.9-2-2-2zM9 17H7v-7h2v7zm4 0h-2V7h2v10zm4 0h-2v-4h2v4z\"/>\n",
              "    </g>\n",
              "</svg>\n",
              "  </button>\n",
              "\n",
              "<style>\n",
              "  .colab-df-quickchart {\n",
              "      --bg-color: #E8F0FE;\n",
              "      --fill-color: #1967D2;\n",
              "      --hover-bg-color: #E2EBFA;\n",
              "      --hover-fill-color: #174EA6;\n",
              "      --disabled-fill-color: #AAA;\n",
              "      --disabled-bg-color: #DDD;\n",
              "  }\n",
              "\n",
              "  [theme=dark] .colab-df-quickchart {\n",
              "      --bg-color: #3B4455;\n",
              "      --fill-color: #D2E3FC;\n",
              "      --hover-bg-color: #434B5C;\n",
              "      --hover-fill-color: #FFFFFF;\n",
              "      --disabled-bg-color: #3B4455;\n",
              "      --disabled-fill-color: #666;\n",
              "  }\n",
              "\n",
              "  .colab-df-quickchart {\n",
              "    background-color: var(--bg-color);\n",
              "    border: none;\n",
              "    border-radius: 50%;\n",
              "    cursor: pointer;\n",
              "    display: none;\n",
              "    fill: var(--fill-color);\n",
              "    height: 32px;\n",
              "    padding: 0;\n",
              "    width: 32px;\n",
              "  }\n",
              "\n",
              "  .colab-df-quickchart:hover {\n",
              "    background-color: var(--hover-bg-color);\n",
              "    box-shadow: 0 1px 2px rgba(60, 64, 67, 0.3), 0 1px 3px 1px rgba(60, 64, 67, 0.15);\n",
              "    fill: var(--button-hover-fill-color);\n",
              "  }\n",
              "\n",
              "  .colab-df-quickchart-complete:disabled,\n",
              "  .colab-df-quickchart-complete:disabled:hover {\n",
              "    background-color: var(--disabled-bg-color);\n",
              "    fill: var(--disabled-fill-color);\n",
              "    box-shadow: none;\n",
              "  }\n",
              "\n",
              "  .colab-df-spinner {\n",
              "    border: 2px solid var(--fill-color);\n",
              "    border-color: transparent;\n",
              "    border-bottom-color: var(--fill-color);\n",
              "    animation:\n",
              "      spin 1s steps(1) infinite;\n",
              "  }\n",
              "\n",
              "  @keyframes spin {\n",
              "    0% {\n",
              "      border-color: transparent;\n",
              "      border-bottom-color: var(--fill-color);\n",
              "      border-left-color: var(--fill-color);\n",
              "    }\n",
              "    20% {\n",
              "      border-color: transparent;\n",
              "      border-left-color: var(--fill-color);\n",
              "      border-top-color: var(--fill-color);\n",
              "    }\n",
              "    30% {\n",
              "      border-color: transparent;\n",
              "      border-left-color: var(--fill-color);\n",
              "      border-top-color: var(--fill-color);\n",
              "      border-right-color: var(--fill-color);\n",
              "    }\n",
              "    40% {\n",
              "      border-color: transparent;\n",
              "      border-right-color: var(--fill-color);\n",
              "      border-top-color: var(--fill-color);\n",
              "    }\n",
              "    60% {\n",
              "      border-color: transparent;\n",
              "      border-right-color: var(--fill-color);\n",
              "    }\n",
              "    80% {\n",
              "      border-color: transparent;\n",
              "      border-right-color: var(--fill-color);\n",
              "      border-bottom-color: var(--fill-color);\n",
              "    }\n",
              "    90% {\n",
              "      border-color: transparent;\n",
              "      border-bottom-color: var(--fill-color);\n",
              "    }\n",
              "  }\n",
              "</style>\n",
              "\n",
              "  <script>\n",
              "    async function quickchart(key) {\n",
              "      const quickchartButtonEl =\n",
              "        document.querySelector('#' + key + ' button');\n",
              "      quickchartButtonEl.disabled = true;  // To prevent multiple clicks.\n",
              "      quickchartButtonEl.classList.add('colab-df-spinner');\n",
              "      try {\n",
              "        const charts = await google.colab.kernel.invokeFunction(\n",
              "            'suggestCharts', [key], {});\n",
              "      } catch (error) {\n",
              "        console.error('Error during call to suggestCharts:', error);\n",
              "      }\n",
              "      quickchartButtonEl.classList.remove('colab-df-spinner');\n",
              "      quickchartButtonEl.classList.add('colab-df-quickchart-complete');\n",
              "    }\n",
              "    (() => {\n",
              "      let quickchartButtonEl =\n",
              "        document.querySelector('#df-a8de3230-608d-4d18-9897-1661276cc1b0 button');\n",
              "      quickchartButtonEl.style.display =\n",
              "        google.colab.kernel.accessAllowed ? 'block' : 'none';\n",
              "    })();\n",
              "  </script>\n",
              "</div>\n",
              "\n",
              "    </div>\n",
              "  </div>\n"
            ],
            "application/vnd.google.colaboratory.intrinsic+json": {
              "type": "dataframe",
              "variable_name": "goods_investments",
              "summary": "{\n  \"name\": \"goods_investments\",\n  \"rows\": 4636,\n  \"fields\": [\n    {\n      \"column\": \"Store Number\",\n      \"properties\": {\n        \"dtype\": \"number\",\n        \"std\": 15136,\n        \"min\": 1101,\n        \"max\": 55141,\n        \"num_unique_values\": 1216,\n        \"samples\": [\n          27113,\n          17165,\n          4011\n        ],\n        \"semantic_type\": \"\",\n        \"description\": \"\"\n      }\n    },\n    {\n      \"column\": \"Convenience\",\n      \"properties\": {\n        \"dtype\": \"number\",\n        \"std\": 115472,\n        \"min\": 0,\n        \"max\": 3030964,\n        \"num_unique_values\": 4323,\n        \"samples\": [\n          6926,\n          21205,\n          11606\n        ],\n        \"semantic_type\": \"\",\n        \"description\": \"\"\n      }\n    },\n    {\n      \"column\": \"Shopping\",\n      \"properties\": {\n        \"dtype\": \"number\",\n        \"std\": 12116,\n        \"min\": 0,\n        \"max\": 293958,\n        \"num_unique_values\": 2658,\n        \"samples\": [\n          466,\n          1437,\n          2873\n        ],\n        \"semantic_type\": \"\",\n        \"description\": \"\"\n      }\n    },\n    {\n      \"column\": \"Specialty\",\n      \"properties\": {\n        \"dtype\": \"number\",\n        \"std\": 51793,\n        \"min\": 0,\n        \"max\": 1476387,\n        \"num_unique_values\": 4071,\n        \"samples\": [\n          20046,\n          7122,\n          6107\n        ],\n        \"semantic_type\": \"\",\n        \"description\": \"\"\n      }\n    },\n    {\n      \"column\": \"Unsought\",\n      \"properties\": {\n        \"dtype\": \"number\",\n        \"std\": 60937,\n        \"min\": 0,\n        \"max\": 1842859,\n        \"num_unique_values\": 3992,\n        \"samples\": [\n          11766,\n          20842,\n          11806\n        ],\n        \"semantic_type\": \"\",\n        \"description\": \"\"\n      }\n    },\n    {\n      \"column\": \"Other\",\n      \"properties\": {\n        \"dtype\": \"number\",\n        \"std\": 117399,\n        \"min\": 7,\n        \"max\": 2824311,\n        \"num_unique_values\": 4345,\n        \"samples\": [\n          21631,\n          15395,\n          21860\n        ],\n        \"semantic_type\": \"\",\n        \"description\": \"\"\n      }\n    },\n    {\n      \"column\": \"Percentage Investment\",\n      \"properties\": {\n        \"dtype\": \"number\",\n        \"std\": 5.674064970533022,\n        \"min\": 3.5,\n        \"max\": 48.6,\n        \"num_unique_values\": 272,\n        \"samples\": [\n          22.1,\n          33.5,\n          12.6\n        ],\n        \"semantic_type\": \"\",\n        \"description\": \"\"\n      }\n    }\n  ]\n}"
            }
          },
          "metadata": {},
          "execution_count": 130
        }
      ]
    },
    {
      "cell_type": "code",
      "execution_count": null,
      "metadata": {
        "id": "scUaSgn1QzfX"
      },
      "outputs": [],
      "source": [
        "X_data = goods_investments.drop(\"Store Number\", axis=1)\n",
        "y_target = goods_investments[\"Percentage Investment\"]\n",
        "X_train, X_test, y_train, y_test = train_test_split(X_data, y_target, test_size = 0.2)"
      ]
    },
    {
      "cell_type": "markdown",
      "metadata": {
        "id": "jTnK0npkMmuo"
      },
      "source": [
        "#### 1.3 Print out the shapes of X_train, X_test, y_train, y_test [0.5 pt]"
      ]
    },
    {
      "cell_type": "code",
      "execution_count": null,
      "metadata": {
        "id": "5BWUBkxxQzfX",
        "colab": {
          "base_uri": "https://localhost:8080/"
        },
        "outputId": "0db094ac-7ea1-49a2-c6d7-3b991da5f213"
      },
      "outputs": [
        {
          "output_type": "stream",
          "name": "stdout",
          "text": [
            "X_train shape:  (3708, 6)\n",
            "X_test shape:  (928, 6)\n",
            "y_train shape:  (3708,)\n",
            "y_test shape:  (928,)\n"
          ]
        }
      ],
      "source": [
        "# Your code here\n",
        "print(\"X_train shape: \", X_train.shape)\n",
        "print(\"X_test shape: \", X_test.shape)\n",
        "print(\"y_train shape: \", y_train.shape)\n",
        "print(\"y_test shape: \", y_test.shape)"
      ]
    },
    {
      "cell_type": "markdown",
      "metadata": {
        "id": "8mcisI8YMky6"
      },
      "source": [
        "#### 1.4 Fit a regressor\n",
        "\n",
        "Create a <a href=\"http://scikit-learn.org/stable/modules/generated/sklearn.linear_model.LinearRegression.html\">linear regression model</a> and fit it to your training dataset. [0.5 pt]<br>\n"
      ]
    },
    {
      "cell_type": "code",
      "execution_count": null,
      "metadata": {
        "id": "cPb9B7f7QzfX"
      },
      "outputs": [],
      "source": [
        "investment_regression = LinearRegression().fit(X_train, y_train)"
      ]
    },
    {
      "cell_type": "markdown",
      "metadata": {
        "id": "6325tlYcMsDb"
      },
      "source": [
        "#### 1.5 Use your model to predict on your test set. [0.5 pt]\n"
      ]
    },
    {
      "cell_type": "code",
      "execution_count": null,
      "metadata": {
        "id": "dNtV8v7AQzfX"
      },
      "outputs": [],
      "source": [
        "\n",
        "investment_predictions = investment_regression.predict(X_test)\n"
      ]
    },
    {
      "cell_type": "markdown",
      "metadata": {
        "id": "Fmmjjq3LMzxA"
      },
      "source": [
        "#### 1.6 Report the RMSE of the prediction. (The [MSE](https://scikit-learn.org/stable/modules/generated/sklearn.metrics.mean_squared_error.html) library is useful. Note - We want to find the root of MSE). [0.5 pt]"
      ]
    },
    {
      "cell_type": "code",
      "execution_count": null,
      "metadata": {
        "id": "GUOJ6rkuQzfj",
        "colab": {
          "base_uri": "https://localhost:8080/"
        },
        "outputId": "84b54371-ceb9-443c-85c2-d4a7627226b1"
      },
      "outputs": [
        {
          "output_type": "stream",
          "name": "stdout",
          "text": [
            "1.0669214900579199e-23\n"
          ]
        }
      ],
      "source": [
        "rmse = mean_squared_error(investment_predictions, y_test)\n",
        "print(rmse)"
      ]
    },
    {
      "cell_type": "markdown",
      "metadata": {
        "id": "L_hyqagHM0pr"
      },
      "source": [
        "<!-- BEGIN QUESTION -->\n",
        "\n",
        "#### 1.7 Print the intercept value of the linear regression, along with the coefficients of each of the input features. [1 pt]"
      ]
    },
    {
      "cell_type": "code",
      "execution_count": null,
      "metadata": {
        "id": "dIrJaolvNCNr",
        "colab": {
          "base_uri": "https://localhost:8080/"
        },
        "outputId": "b6a5be35-32a3-4da4-e8c6-aff942154468"
      },
      "outputs": [
        {
          "output_type": "execute_result",
          "data": {
            "text/plain": [
              "4.2454928461665986e-13"
            ]
          },
          "metadata": {},
          "execution_count": 136
        }
      ],
      "source": [
        "# Your code here\n",
        "investment_regression.intercept_"
      ]
    },
    {
      "cell_type": "markdown",
      "source": [
        "# Part 2: Classification"
      ],
      "metadata": {
        "id": "RMxentWS_NEx"
      }
    },
    {
      "cell_type": "markdown",
      "source": [
        "### **Instructions**\n",
        "\n",
        "Out of the three classifiers taught this week (decision trees, logistic regression, Naive Bayes), you must implement two of them.\n",
        "\n",
        "You will follow the steps for each classifier model that you implement:\n",
        "- Defining the model.\n",
        "- Fit the classifier defined in step 4 on the training data (X_train, y_train).\n",
        "- Generate a list predictions_train containing all the grade predictions for the train set.\n",
        "- Generate a list predictions_test containing all the grade predictions for the test set.\n",
        "- Calculate the accuracy of your model on the train and test sets."
      ],
      "metadata": {
        "id": "nl6FoP3DCk_4"
      }
    },
    {
      "cell_type": "markdown",
      "metadata": {
        "id": "KfBBep2qR6xV"
      },
      "source": [
        "### The Dataset\n",
        "\n",
        "For your classification tasks, you will work on weather data. The goal is to classify the weather being high_humidity or not based on other weather conditions.\n",
        "\n",
        "Here is a pre-processed version of the [dataset](https://drive.google.com/file/d/11mKR0uGIk8ZCG2jmk0m_GxiYPLq6rAfc/view?usp=share_link)\n"
      ]
    },
    {
      "cell_type": "markdown",
      "metadata": {
        "id": "FbU_11Pu2Dyf"
      },
      "source": [
        "### Load Data\n",
        "\n",
        "Load the dataset into a dataframe `df`. The url to retrieve the data from can be found here: https://raw.githubusercontent.com/dsc207rfall2023/fa23course-dsc207r/main/assignments/Week%207/input_data/humidity.csv. Read this data into a pandas dataframe `df`"
      ]
    },
    {
      "cell_type": "code",
      "execution_count": null,
      "metadata": {
        "tags": [],
        "id": "RV-MscQ7xdYt"
      },
      "outputs": [],
      "source": [
        "df = pd.read_csv(\"https://raw.githubusercontent.com/dsc207rfall2023/fa23course-dsc207r/main/assignments/Week%207/input_data/humidity.csv\")"
      ]
    },
    {
      "cell_type": "markdown",
      "metadata": {
        "deletable": false,
        "editable": false,
        "id": "tZmlc0O52mfv"
      },
      "source": [
        "<!-- END QUESTION -->\n",
        "\n",
        "### Importing Machine Learning Libraries\n",
        "\n",
        "You will need to import machine learning libraries of your choice for performing different tasks in this assignment. Update this cell with each import and re-run it to update your notebook."
      ]
    },
    {
      "cell_type": "code",
      "execution_count": null,
      "metadata": {
        "id": "LCiSEZNBR6xW"
      },
      "outputs": [],
      "source": [
        "# Import relevant machine learning libraries in this cell as relevant for this assignment\n",
        "from sklearn.linear_model import LogisticRegression\n",
        "from sklearn.naive_bayes import BernoulliNB\n",
        "from sklearn.tree import DecisionTreeClassifier\n",
        "from sklearn.metrics import accuracy_score"
      ]
    },
    {
      "cell_type": "markdown",
      "metadata": {
        "deletable": false,
        "editable": false,
        "id": "-iwNI-A35qdp"
      },
      "source": [
        "<!-- BEGIN QUESTION -->\n",
        "\n",
        "### 2.1 Understanding the Data"
      ]
    },
    {
      "cell_type": "markdown",
      "metadata": {
        "deletable": false,
        "editable": false,
        "id": "JIYg8S9S5uiI"
      },
      "source": [
        "##### Get information about the various columns of the dataframe using head, describe and info methods of dataframes. [1 pt]"
      ]
    },
    {
      "cell_type": "code",
      "source": [
        "df.info()"
      ],
      "metadata": {
        "colab": {
          "base_uri": "https://localhost:8080/"
        },
        "id": "iJVHdaTpyup7",
        "outputId": "b31645a9-5f68-4f3e-c093-6a8859e49758"
      },
      "execution_count": null,
      "outputs": [
        {
          "output_type": "stream",
          "name": "stdout",
          "text": [
            "<class 'pandas.core.frame.DataFrame'>\n",
            "RangeIndex: 1064 entries, 0 to 1063\n",
            "Data columns (total 9 columns):\n",
            " #   Column                  Non-Null Count  Dtype  \n",
            "---  ------                  --------------  -----  \n",
            " 0   air_pressure_9am        1064 non-null   float64\n",
            " 1   air_temp_9am            1064 non-null   float64\n",
            " 2   avg_wind_direction_9am  1064 non-null   float64\n",
            " 3   avg_wind_speed_9am      1064 non-null   float64\n",
            " 4   max_wind_direction_9am  1064 non-null   float64\n",
            " 5   max_wind_speed_9am      1064 non-null   float64\n",
            " 6   rain_accumulation_9am   1064 non-null   float64\n",
            " 7   rain_duration_9am       1064 non-null   float64\n",
            " 8   high_humidity_label     1064 non-null   int64  \n",
            "dtypes: float64(8), int64(1)\n",
            "memory usage: 74.9 KB\n"
          ]
        }
      ]
    },
    {
      "cell_type": "code",
      "execution_count": null,
      "metadata": {
        "id": "I8dXjDwLR-7f",
        "tags": [],
        "colab": {
          "base_uri": "https://localhost:8080/"
        },
        "outputId": "4b95a774-50f7-446f-c12c-9b9682d8fbac"
      },
      "outputs": [
        {
          "output_type": "execute_result",
          "data": {
            "text/plain": [
              "0.49718045112781956"
            ]
          },
          "metadata": {},
          "execution_count": 160
        }
      ],
      "source": [
        "# Your code here\n",
        "df.head(10)"
      ]
    },
    {
      "cell_type": "markdown",
      "metadata": {
        "deletable": false,
        "editable": false,
        "id": "hpDE3OOUBaDl"
      },
      "source": [
        "<!-- BEGIN QUESTION -->\n",
        "\n",
        "### 2.2 Generate a [histogram graph for counts for all values](https://pandas.pydata.org/docs/reference/api/pandas.DataFrame.hist.html).\n",
        "Set the figsize parameter to a suitable size for readability. You need not plot each histogram individually. Instead use the provided reference to plot the distributions together like the sample below. [0.5 pt]\n",
        "\n",
        "![image.png](data:image/png;base64,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)"
      ]
    },
    {
      "cell_type": "code",
      "execution_count": null,
      "metadata": {
        "id": "QH88B0KS4hF1",
        "tags": [],
        "colab": {
          "base_uri": "https://localhost:8080/",
          "height": 1000
        },
        "outputId": "02c8ef90-c9e8-46bc-bfc1-a4d83da1d0e5"
      },
      "outputs": [
        {
          "output_type": "execute_result",
          "data": {
            "text/plain": [
              "array([[<Axes: title={'center': 'air_pressure_9am'}>,\n",
              "        <Axes: title={'center': 'air_temp_9am'}>,\n",
              "        <Axes: title={'center': 'avg_wind_direction_9am'}>],\n",
              "       [<Axes: title={'center': 'avg_wind_speed_9am'}>,\n",
              "        <Axes: title={'center': 'max_wind_direction_9am'}>,\n",
              "        <Axes: title={'center': 'max_wind_speed_9am'}>],\n",
              "       [<Axes: title={'center': 'rain_accumulation_9am'}>,\n",
              "        <Axes: title={'center': 'rain_duration_9am'}>,\n",
              "        <Axes: title={'center': 'high_humidity_label'}>]], dtype=object)"
            ]
          },
          "metadata": {},
          "execution_count": 141
        },
        {
          "output_type": "display_data",
          "data": {
            "text/plain": [
              "<Figure size 2000x2000 with 9 Axes>"
            ],
            "image/png": "[encoded data removed]"
          },
          "metadata": {}
        }
      ],
      "source": [
        "df.hist(figsize=(20, 20))"
      ]
    },
    {
      "cell_type": "markdown",
      "metadata": {
        "deletable": false,
        "editable": false,
        "id": "vVmi5jnuBpP8"
      },
      "source": [
        "<!-- END QUESTION -->\n",
        "\n",
        "### 2.3 Preparing the input fields and target variable [0.5 pt]\n",
        "\n",
        "1. We want to create a dataframe of features `X` without the labels.\n",
        "2. We want to remove the target variable `label` and store it another dataframe `y`.\n",
        "\n"
      ]
    },
    {
      "cell_type": "code",
      "source": [
        "df.info()"
      ],
      "metadata": {
        "colab": {
          "base_uri": "https://localhost:8080/"
        },
        "id": "ENAekQIqy7XU",
        "outputId": "93d09de3-ca80-45be-b674-d44684d0bb95"
      },
      "execution_count": null,
      "outputs": [
        {
          "output_type": "stream",
          "name": "stdout",
          "text": [
            "<class 'pandas.core.frame.DataFrame'>\n",
            "RangeIndex: 1064 entries, 0 to 1063\n",
            "Data columns (total 9 columns):\n",
            " #   Column                  Non-Null Count  Dtype  \n",
            "---  ------                  --------------  -----  \n",
            " 0   air_pressure_9am        1064 non-null   float64\n",
            " 1   air_temp_9am            1064 non-null   float64\n",
            " 2   avg_wind_direction_9am  1064 non-null   float64\n",
            " 3   avg_wind_speed_9am      1064 non-null   float64\n",
            " 4   max_wind_direction_9am  1064 non-null   float64\n",
            " 5   max_wind_speed_9am      1064 non-null   float64\n",
            " 6   rain_accumulation_9am   1064 non-null   float64\n",
            " 7   rain_duration_9am       1064 non-null   float64\n",
            " 8   high_humidity_label     1064 non-null   int64  \n",
            "dtypes: float64(8), int64(1)\n",
            "memory usage: 74.9 KB\n"
          ]
        }
      ]
    },
    {
      "cell_type": "code",
      "execution_count": null,
      "metadata": {
        "id": "lvmqbReNR6xY",
        "tags": []
      },
      "outputs": [],
      "source": [
        "X = df.drop(\"high_humidity_label\",axis=1)\n",
        "y = df[\"high_humidity_label\"]"
      ]
    },
    {
      "cell_type": "markdown",
      "metadata": {
        "deletable": false,
        "editable": false,
        "id": "9iCgh2WHEyo2"
      },
      "source": [
        "### 2.4 Preparing train and test sets [0.5 pt]\n",
        "\n",
        "Split data into training(80%) and test(20%) set using [train_test_split](https://scikit-learn.org/stable/modules/generated/sklearn.model_selection.train_test_split.html) with some value of random_state.\n",
        "\n",
        "After this step, you should have 4 dataframes - `X_train, X_test, y_train, y_test`."
      ]
    },
    {
      "cell_type": "code",
      "execution_count": null,
      "metadata": {
        "id": "-2BKYJ9vR6xh",
        "tags": []
      },
      "outputs": [],
      "source": [
        "X_train, X_test, y_train, y_test = train_test_split(X, y, test_size=0.2)"
      ]
    },
    {
      "cell_type": "markdown",
      "source": [
        "##2.5 Classifier #1"
      ],
      "metadata": {
        "id": "0xcn0GpG7zon"
      }
    },
    {
      "cell_type": "markdown",
      "metadata": {
        "deletable": false,
        "editable": false,
        "id": "_GZJn0OQEngu"
      },
      "source": [
        "### 2.5.1 Defining the first classifier model [0.5 pt]\n",
        "\n",
        "Choose either a decision tree, logistic regression, or Naive Bayes model.\n",
        "Import and create a classifier model called `clf_1`."
      ]
    },
    {
      "cell_type": "code",
      "execution_count": null,
      "metadata": {
        "id": "i-klOOw0R6xg",
        "tags": []
      },
      "outputs": [],
      "source": [
        "clf_1 = DecisionTreeClassifier()"
      ]
    },
    {
      "cell_type": "markdown",
      "metadata": {
        "deletable": false,
        "editable": false,
        "id": "n6alQFbRFKDP"
      },
      "source": [
        "### 2.5.2 Fit the classifier defined in step 4  on the training data (X_train, y_train) [0.5 pt]"
      ]
    },
    {
      "cell_type": "code",
      "execution_count": null,
      "metadata": {
        "id": "VbbW-s0qFJmm",
        "tags": [],
        "colab": {
          "base_uri": "https://localhost:8080/",
          "height": 80
        },
        "outputId": "e2ed58cd-eb1f-48bd-ca37-96eb0ce9cdde"
      },
      "outputs": [
        {
          "output_type": "execute_result",
          "data": {
            "text/plain": [
              "DecisionTreeClassifier()"
            ],
            "text/html": [
              "<style>#sk-container-id-10 {\n",
              "  /* Definition of color scheme common for light and dark mode */\n",
              "  --sklearn-color-text: black;\n",
              "  --sklearn-color-line: gray;\n",
              "  /* Definition of color scheme for unfitted estimators */\n",
              "  --sklearn-color-unfitted-level-0: #fff5e6;\n",
              "  --sklearn-color-unfitted-level-1: #f6e4d2;\n",
              "  --sklearn-color-unfitted-level-2: #ffe0b3;\n",
              "  --sklearn-color-unfitted-level-3: chocolate;\n",
              "  /* Definition of color scheme for fitted estimators */\n",
              "  --sklearn-color-fitted-level-0: #f0f8ff;\n",
              "  --sklearn-color-fitted-level-1: #d4ebff;\n",
              "  --sklearn-color-fitted-level-2: #b3dbfd;\n",
              "  --sklearn-color-fitted-level-3: cornflowerblue;\n",
              "\n",
              "  /* Specific color for light theme */\n",
              "  --sklearn-color-text-on-default-background: var(--sg-text-color, var(--theme-code-foreground, var(--jp-content-font-color1, black)));\n",
              "  --sklearn-color-background: var(--sg-background-color, var(--theme-background, var(--jp-layout-color0, white)));\n",
              "  --sklearn-color-border-box: var(--sg-text-color, var(--theme-code-foreground, var(--jp-content-font-color1, black)));\n",
              "  --sklearn-color-icon: #696969;\n",
              "\n",
              "  @media (prefers-color-scheme: dark) {\n",
              "    /* Redefinition of color scheme for dark theme */\n",
              "    --sklearn-color-text-on-default-background: var(--sg-text-color, var(--theme-code-foreground, var(--jp-content-font-color1, white)));\n",
              "    --sklearn-color-background: var(--sg-background-color, var(--theme-background, var(--jp-layout-color0, #111)));\n",
              "    --sklearn-color-border-box: var(--sg-text-color, var(--theme-code-foreground, var(--jp-content-font-color1, white)));\n",
              "    --sklearn-color-icon: #878787;\n",
              "  }\n",
              "}\n",
              "\n",
              "#sk-container-id-10 {\n",
              "  color: var(--sklearn-color-text);\n",
              "}\n",
              "\n",
              "#sk-container-id-10 pre {\n",
              "  padding: 0;\n",
              "}\n",
              "\n",
              "#sk-container-id-10 input.sk-hidden--visually {\n",
              "  border: 0;\n",
              "  clip: rect(1px 1px 1px 1px);\n",
              "  clip: rect(1px, 1px, 1px, 1px);\n",
              "  height: 1px;\n",
              "  margin: -1px;\n",
              "  overflow: hidden;\n",
              "  padding: 0;\n",
              "  position: absolute;\n",
              "  width: 1px;\n",
              "}\n",
              "\n",
              "#sk-container-id-10 div.sk-dashed-wrapped {\n",
              "  border: 1px dashed var(--sklearn-color-line);\n",
              "  margin: 0 0.4em 0.5em 0.4em;\n",
              "  box-sizing: border-box;\n",
              "  padding-bottom: 0.4em;\n",
              "  background-color: var(--sklearn-color-background);\n",
              "}\n",
              "\n",
              "#sk-container-id-10 div.sk-container {\n",
              "  /* jupyter's `normalize.less` sets `[hidden] { display: none; }`\n",
              "     but bootstrap.min.css set `[hidden] { display: none !important; }`\n",
              "     so we also need the `!important` here to be able to override the\n",
              "     default hidden behavior on the sphinx rendered scikit-learn.org.\n",
              "     See: https://github.com/scikit-learn/scikit-learn/issues/21755 */\n",
              "  display: inline-block !important;\n",
              "  position: relative;\n",
              "}\n",
              "\n",
              "#sk-container-id-10 div.sk-text-repr-fallback {\n",
              "  display: none;\n",
              "}\n",
              "\n",
              "div.sk-parallel-item,\n",
              "div.sk-serial,\n",
              "div.sk-item {\n",
              "  /* draw centered vertical line to link estimators */\n",
              "  background-image: linear-gradient(var(--sklearn-color-text-on-default-background), var(--sklearn-color-text-on-default-background));\n",
              "  background-size: 2px 100%;\n",
              "  background-repeat: no-repeat;\n",
              "  background-position: center center;\n",
              "}\n",
              "\n",
              "/* Parallel-specific style estimator block */\n",
              "\n",
              "#sk-container-id-10 div.sk-parallel-item::after {\n",
              "  content: \"\";\n",
              "  width: 100%;\n",
              "  border-bottom: 2px solid var(--sklearn-color-text-on-default-background);\n",
              "  flex-grow: 1;\n",
              "}\n",
              "\n",
              "#sk-container-id-10 div.sk-parallel {\n",
              "  display: flex;\n",
              "  align-items: stretch;\n",
              "  justify-content: center;\n",
              "  background-color: var(--sklearn-color-background);\n",
              "  position: relative;\n",
              "}\n",
              "\n",
              "#sk-container-id-10 div.sk-parallel-item {\n",
              "  display: flex;\n",
              "  flex-direction: column;\n",
              "}\n",
              "\n",
              "#sk-container-id-10 div.sk-parallel-item:first-child::after {\n",
              "  align-self: flex-end;\n",
              "  width: 50%;\n",
              "}\n",
              "\n",
              "#sk-container-id-10 div.sk-parallel-item:last-child::after {\n",
              "  align-self: flex-start;\n",
              "  width: 50%;\n",
              "}\n",
              "\n",
              "#sk-container-id-10 div.sk-parallel-item:only-child::after {\n",
              "  width: 0;\n",
              "}\n",
              "\n",
              "/* Serial-specific style estimator block */\n",
              "\n",
              "#sk-container-id-10 div.sk-serial {\n",
              "  display: flex;\n",
              "  flex-direction: column;\n",
              "  align-items: center;\n",
              "  background-color: var(--sklearn-color-background);\n",
              "  padding-right: 1em;\n",
              "  padding-left: 1em;\n",
              "}\n",
              "\n",
              "\n",
              "/* Toggleable style: style used for estimator/Pipeline/ColumnTransformer box that is\n",
              "clickable and can be expanded/collapsed.\n",
              "- Pipeline and ColumnTransformer use this feature and define the default style\n",
              "- Estimators will overwrite some part of the style using the `sk-estimator` class\n",
              "*/\n",
              "\n",
              "/* Pipeline and ColumnTransformer style (default) */\n",
              "\n",
              "#sk-container-id-10 div.sk-toggleable {\n",
              "  /* Default theme specific background. It is overwritten whether we have a\n",
              "  specific estimator or a Pipeline/ColumnTransformer */\n",
              "  background-color: var(--sklearn-color-background);\n",
              "}\n",
              "\n",
              "/* Toggleable label */\n",
              "#sk-container-id-10 label.sk-toggleable__label {\n",
              "  cursor: pointer;\n",
              "  display: block;\n",
              "  width: 100%;\n",
              "  margin-bottom: 0;\n",
              "  padding: 0.5em;\n",
              "  box-sizing: border-box;\n",
              "  text-align: center;\n",
              "}\n",
              "\n",
              "#sk-container-id-10 label.sk-toggleable__label-arrow:before {\n",
              "  /* Arrow on the left of the label */\n",
              "  content: \"▸\";\n",
              "  float: left;\n",
              "  margin-right: 0.25em;\n",
              "  color: var(--sklearn-color-icon);\n",
              "}\n",
              "\n",
              "#sk-container-id-10 label.sk-toggleable__label-arrow:hover:before {\n",
              "  color: var(--sklearn-color-text);\n",
              "}\n",
              "\n",
              "/* Toggleable content - dropdown */\n",
              "\n",
              "#sk-container-id-10 div.sk-toggleable__content {\n",
              "  max-height: 0;\n",
              "  max-width: 0;\n",
              "  overflow: hidden;\n",
              "  text-align: left;\n",
              "  /* unfitted */\n",
              "  background-color: var(--sklearn-color-unfitted-level-0);\n",
              "}\n",
              "\n",
              "#sk-container-id-10 div.sk-toggleable__content.fitted {\n",
              "  /* fitted */\n",
              "  background-color: var(--sklearn-color-fitted-level-0);\n",
              "}\n",
              "\n",
              "#sk-container-id-10 div.sk-toggleable__content pre {\n",
              "  margin: 0.2em;\n",
              "  border-radius: 0.25em;\n",
              "  color: var(--sklearn-color-text);\n",
              "  /* unfitted */\n",
              "  background-color: var(--sklearn-color-unfitted-level-0);\n",
              "}\n",
              "\n",
              "#sk-container-id-10 div.sk-toggleable__content.fitted pre {\n",
              "  /* unfitted */\n",
              "  background-color: var(--sklearn-color-fitted-level-0);\n",
              "}\n",
              "\n",
              "#sk-container-id-10 input.sk-toggleable__control:checked~div.sk-toggleable__content {\n",
              "  /* Expand drop-down */\n",
              "  max-height: 200px;\n",
              "  max-width: 100%;\n",
              "  overflow: auto;\n",
              "}\n",
              "\n",
              "#sk-container-id-10 input.sk-toggleable__control:checked~label.sk-toggleable__label-arrow:before {\n",
              "  content: \"▾\";\n",
              "}\n",
              "\n",
              "/* Pipeline/ColumnTransformer-specific style */\n",
              "\n",
              "#sk-container-id-10 div.sk-label input.sk-toggleable__control:checked~label.sk-toggleable__label {\n",
              "  color: var(--sklearn-color-text);\n",
              "  background-color: var(--sklearn-color-unfitted-level-2);\n",
              "}\n",
              "\n",
              "#sk-container-id-10 div.sk-label.fitted input.sk-toggleable__control:checked~label.sk-toggleable__label {\n",
              "  background-color: var(--sklearn-color-fitted-level-2);\n",
              "}\n",
              "\n",
              "/* Estimator-specific style */\n",
              "\n",
              "/* Colorize estimator box */\n",
              "#sk-container-id-10 div.sk-estimator input.sk-toggleable__control:checked~label.sk-toggleable__label {\n",
              "  /* unfitted */\n",
              "  background-color: var(--sklearn-color-unfitted-level-2);\n",
              "}\n",
              "\n",
              "#sk-container-id-10 div.sk-estimator.fitted input.sk-toggleable__control:checked~label.sk-toggleable__label {\n",
              "  /* fitted */\n",
              "  background-color: var(--sklearn-color-fitted-level-2);\n",
              "}\n",
              "\n",
              "#sk-container-id-10 div.sk-label label.sk-toggleable__label,\n",
              "#sk-container-id-10 div.sk-label label {\n",
              "  /* The background is the default theme color */\n",
              "  color: var(--sklearn-color-text-on-default-background);\n",
              "}\n",
              "\n",
              "/* On hover, darken the color of the background */\n",
              "#sk-container-id-10 div.sk-label:hover label.sk-toggleable__label {\n",
              "  color: var(--sklearn-color-text);\n",
              "  background-color: var(--sklearn-color-unfitted-level-2);\n",
              "}\n",
              "\n",
              "/* Label box, darken color on hover, fitted */\n",
              "#sk-container-id-10 div.sk-label.fitted:hover label.sk-toggleable__label.fitted {\n",
              "  color: var(--sklearn-color-text);\n",
              "  background-color: var(--sklearn-color-fitted-level-2);\n",
              "}\n",
              "\n",
              "/* Estimator label */\n",
              "\n",
              "#sk-container-id-10 div.sk-label label {\n",
              "  font-family: monospace;\n",
              "  font-weight: bold;\n",
              "  display: inline-block;\n",
              "  line-height: 1.2em;\n",
              "}\n",
              "\n",
              "#sk-container-id-10 div.sk-label-container {\n",
              "  text-align: center;\n",
              "}\n",
              "\n",
              "/* Estimator-specific */\n",
              "#sk-container-id-10 div.sk-estimator {\n",
              "  font-family: monospace;\n",
              "  border: 1px dotted var(--sklearn-color-border-box);\n",
              "  border-radius: 0.25em;\n",
              "  box-sizing: border-box;\n",
              "  margin-bottom: 0.5em;\n",
              "  /* unfitted */\n",
              "  background-color: var(--sklearn-color-unfitted-level-0);\n",
              "}\n",
              "\n",
              "#sk-container-id-10 div.sk-estimator.fitted {\n",
              "  /* fitted */\n",
              "  background-color: var(--sklearn-color-fitted-level-0);\n",
              "}\n",
              "\n",
              "/* on hover */\n",
              "#sk-container-id-10 div.sk-estimator:hover {\n",
              "  /* unfitted */\n",
              "  background-color: var(--sklearn-color-unfitted-level-2);\n",
              "}\n",
              "\n",
              "#sk-container-id-10 div.sk-estimator.fitted:hover {\n",
              "  /* fitted */\n",
              "  background-color: var(--sklearn-color-fitted-level-2);\n",
              "}\n",
              "\n",
              "/* Specification for estimator info (e.g. \"i\" and \"?\") */\n",
              "\n",
              "/* Common style for \"i\" and \"?\" */\n",
              "\n",
              ".sk-estimator-doc-link,\n",
              "a:link.sk-estimator-doc-link,\n",
              "a:visited.sk-estimator-doc-link {\n",
              "  float: right;\n",
              "  font-size: smaller;\n",
              "  line-height: 1em;\n",
              "  font-family: monospace;\n",
              "  background-color: var(--sklearn-color-background);\n",
              "  border-radius: 1em;\n",
              "  height: 1em;\n",
              "  width: 1em;\n",
              "  text-decoration: none !important;\n",
              "  margin-left: 1ex;\n",
              "  /* unfitted */\n",
              "  border: var(--sklearn-color-unfitted-level-1) 1pt solid;\n",
              "  color: var(--sklearn-color-unfitted-level-1);\n",
              "}\n",
              "\n",
              ".sk-estimator-doc-link.fitted,\n",
              "a:link.sk-estimator-doc-link.fitted,\n",
              "a:visited.sk-estimator-doc-link.fitted {\n",
              "  /* fitted */\n",
              "  border: var(--sklearn-color-fitted-level-1) 1pt solid;\n",
              "  color: var(--sklearn-color-fitted-level-1);\n",
              "}\n",
              "\n",
              "/* On hover */\n",
              "div.sk-estimator:hover .sk-estimator-doc-link:hover,\n",
              ".sk-estimator-doc-link:hover,\n",
              "div.sk-label-container:hover .sk-estimator-doc-link:hover,\n",
              ".sk-estimator-doc-link:hover {\n",
              "  /* unfitted */\n",
              "  background-color: var(--sklearn-color-unfitted-level-3);\n",
              "  color: var(--sklearn-color-background);\n",
              "  text-decoration: none;\n",
              "}\n",
              "\n",
              "div.sk-estimator.fitted:hover .sk-estimator-doc-link.fitted:hover,\n",
              ".sk-estimator-doc-link.fitted:hover,\n",
              "div.sk-label-container:hover .sk-estimator-doc-link.fitted:hover,\n",
              ".sk-estimator-doc-link.fitted:hover {\n",
              "  /* fitted */\n",
              "  background-color: var(--sklearn-color-fitted-level-3);\n",
              "  color: var(--sklearn-color-background);\n",
              "  text-decoration: none;\n",
              "}\n",
              "\n",
              "/* Span, style for the box shown on hovering the info icon */\n",
              ".sk-estimator-doc-link span {\n",
              "  display: none;\n",
              "  z-index: 9999;\n",
              "  position: relative;\n",
              "  font-weight: normal;\n",
              "  right: .2ex;\n",
              "  padding: .5ex;\n",
              "  margin: .5ex;\n",
              "  width: min-content;\n",
              "  min-width: 20ex;\n",
              "  max-width: 50ex;\n",
              "  color: var(--sklearn-color-text);\n",
              "  box-shadow: 2pt 2pt 4pt #999;\n",
              "  /* unfitted */\n",
              "  background: var(--sklearn-color-unfitted-level-0);\n",
              "  border: .5pt solid var(--sklearn-color-unfitted-level-3);\n",
              "}\n",
              "\n",
              ".sk-estimator-doc-link.fitted span {\n",
              "  /* fitted */\n",
              "  background: var(--sklearn-color-fitted-level-0);\n",
              "  border: var(--sklearn-color-fitted-level-3);\n",
              "}\n",
              "\n",
              ".sk-estimator-doc-link:hover span {\n",
              "  display: block;\n",
              "}\n",
              "\n",
              "/* \"?\"-specific style due to the `<a>` HTML tag */\n",
              "\n",
              "#sk-container-id-10 a.estimator_doc_link {\n",
              "  float: right;\n",
              "  font-size: 1rem;\n",
              "  line-height: 1em;\n",
              "  font-family: monospace;\n",
              "  background-color: var(--sklearn-color-background);\n",
              "  border-radius: 1rem;\n",
              "  height: 1rem;\n",
              "  width: 1rem;\n",
              "  text-decoration: none;\n",
              "  /* unfitted */\n",
              "  color: var(--sklearn-color-unfitted-level-1);\n",
              "  border: var(--sklearn-color-unfitted-level-1) 1pt solid;\n",
              "}\n",
              "\n",
              "#sk-container-id-10 a.estimator_doc_link.fitted {\n",
              "  /* fitted */\n",
              "  border: var(--sklearn-color-fitted-level-1) 1pt solid;\n",
              "  color: var(--sklearn-color-fitted-level-1);\n",
              "}\n",
              "\n",
              "/* On hover */\n",
              "#sk-container-id-10 a.estimator_doc_link:hover {\n",
              "  /* unfitted */\n",
              "  background-color: var(--sklearn-color-unfitted-level-3);\n",
              "  color: var(--sklearn-color-background);\n",
              "  text-decoration: none;\n",
              "}\n",
              "\n",
              "#sk-container-id-10 a.estimator_doc_link.fitted:hover {\n",
              "  /* fitted */\n",
              "  background-color: var(--sklearn-color-fitted-level-3);\n",
              "}\n",
              "</style><div id=\"sk-container-id-10\" class=\"sk-top-container\"><div class=\"sk-text-repr-fallback\"><pre>DecisionTreeClassifier()</pre><b>In a Jupyter environment, please rerun this cell to show the HTML representation or trust the notebook. <br />On GitHub, the HTML representation is unable to render, please try loading this page with nbviewer.org.</b></div><div class=\"sk-container\" hidden><div class=\"sk-item\"><div class=\"sk-estimator fitted sk-toggleable\"><input class=\"sk-toggleable__control sk-hidden--visually\" id=\"sk-estimator-id-10\" type=\"checkbox\" checked><label for=\"sk-estimator-id-10\" class=\"sk-toggleable__label fitted sk-toggleable__label-arrow fitted\">&nbsp;&nbsp;DecisionTreeClassifier<a class=\"sk-estimator-doc-link fitted\" rel=\"noreferrer\" target=\"_blank\" href=\"https://scikit-learn.org/1.5/modules/generated/sklearn.tree.DecisionTreeClassifier.html\">?<span>Documentation for DecisionTreeClassifier</span></a><span class=\"sk-estimator-doc-link fitted\">i<span>Fitted</span></span></label><div class=\"sk-toggleable__content fitted\"><pre>DecisionTreeClassifier()</pre></div> </div></div></div></div>"
            ]
          },
          "metadata": {},
          "execution_count": 146
        }
      ],
      "source": [
        "clf_1.fit(X_train, y_train)"
      ]
    },
    {
      "cell_type": "markdown",
      "source": [],
      "metadata": {
        "id": "EZKoyFUu0bSE"
      }
    },
    {
      "cell_type": "markdown",
      "metadata": {
        "deletable": false,
        "editable": false,
        "id": "pTvVoWaLFAxn"
      },
      "source": [
        "### 2.5.3 Generate predictions for train\n",
        "\n",
        "Generate a list `predictions_train` containing all the grade predictions for the train set [0.5 pt]"
      ]
    },
    {
      "cell_type": "code",
      "execution_count": null,
      "metadata": {
        "id": "y4tWaPPeR6xi",
        "tags": []
      },
      "outputs": [],
      "source": [
        "predictions_train1 = clf_1.predict(X_train)"
      ]
    },
    {
      "cell_type": "markdown",
      "metadata": {
        "deletable": false,
        "editable": false,
        "id": "go2kzqbncw5f"
      },
      "source": [
        "### 2.5.4 Generate predictions for train\n",
        "\n",
        "Generate a list `predictions_test` containing all the grade predictions for the test set [0.5 pt]"
      ]
    },
    {
      "cell_type": "code",
      "execution_count": null,
      "metadata": {
        "id": "FHwx14m4R6xi",
        "tags": []
      },
      "outputs": [],
      "source": [
        "predictions_test1 = clf_1.predict(X_test)"
      ]
    },
    {
      "cell_type": "markdown",
      "metadata": {
        "deletable": false,
        "editable": false,
        "id": "66SDbMxdun4l"
      },
      "source": [
        "<!-- BEGIN QUESTION -->\n",
        "\n",
        "### 2.5.5 Calculate accuracy\n",
        "\n",
        "Find the [accuracy](https://scikit-learn.org/stable/modules/generated/sklearn.metrics.accuracy_score.html) of **train** set for your model using above predictions. (Make sure you have imported the library) [0.5 pt]"
      ]
    },
    {
      "cell_type": "code",
      "execution_count": null,
      "metadata": {
        "id": "0PvdYzEYdyu3",
        "tags": [],
        "colab": {
          "base_uri": "https://localhost:8080/"
        },
        "outputId": "5750fba6-e2f8-4c74-a5f7-23cbda0acac7"
      },
      "outputs": [
        {
          "output_type": "stream",
          "name": "stdout",
          "text": [
            "1.0\n"
          ]
        }
      ],
      "source": [
        "acc_train = accuracy_score(y_train, predictions_train1)\n",
        "print(acc_train)"
      ]
    },
    {
      "cell_type": "markdown",
      "metadata": {
        "deletable": false,
        "editable": false,
        "id": "ddwczwiwduwE"
      },
      "source": [
        "<!-- END QUESTION -->\n",
        "\n",
        "Find the accuracy of test set for your model using above predictions. [0.5 pt]"
      ]
    },
    {
      "cell_type": "code",
      "execution_count": null,
      "metadata": {
        "id": "EHa2_7PPR6xj",
        "tags": [],
        "colab": {
          "base_uri": "https://localhost:8080/"
        },
        "outputId": "1097f729-3a8b-4318-d9bb-b049b42c5bc3"
      },
      "outputs": [
        {
          "output_type": "stream",
          "name": "stdout",
          "text": [
            "0.812206572769953\n"
          ]
        }
      ],
      "source": [
        "acc_test = accuracy_score(y_test, predictions_test1)\n",
        "print(acc_test)"
      ]
    },
    {
      "cell_type": "markdown",
      "metadata": {
        "deletable": false,
        "editable": false,
        "id": "i9ZsZuMteBKv"
      },
      "source": [
        "<!-- BEGIN QUESTION -->\n",
        "\n",
        "Which accuracy (test or train) is higher? Why? [0.5 pt]"
      ]
    },
    {
      "cell_type": "code",
      "execution_count": null,
      "metadata": {
        "id": "YVIviWkTeI7D",
        "tags": []
      },
      "outputs": [],
      "source": [
        "# Write your reasoning in words here\n",
        "# The train accuracy is higher because the model can perfectly fit the data given that it has the true labels."
      ]
    },
    {
      "cell_type": "markdown",
      "source": [
        "The train accuracy is higher because the model can perfectly fit the data given that it has the true labels."
      ],
      "metadata": {
        "id": "5RI-cvjF28eC"
      }
    },
    {
      "cell_type": "markdown",
      "source": [],
      "metadata": {
        "id": "Tvd3ONhh27dh"
      }
    },
    {
      "cell_type": "markdown",
      "source": [
        "## 2.6 Classifier #2"
      ],
      "metadata": {
        "id": "9b9fNST473Af"
      }
    },
    {
      "cell_type": "markdown",
      "source": [
        "### 2.6.1 Defining the second classifier model [0.5 pt]\n",
        "\n",
        "Choose either a decision tree, logistic regression, or Naive Bayes model. This must be a different model from your first classifier! Import and create a classifier model called `clf_12`."
      ],
      "metadata": {
        "id": "dprKCdIt3xKZ"
      }
    },
    {
      "cell_type": "code",
      "source": [
        "clf_2 = BernoulliNB()"
      ],
      "metadata": {
        "id": "0wUV6rmQ3wtY"
      },
      "execution_count": null,
      "outputs": []
    },
    {
      "cell_type": "markdown",
      "source": [
        "### 2.6.2 Fit the classifier defined in step 4  on the training data (X_train, y_train) [0.5 pt]"
      ],
      "metadata": {
        "id": "gNpfsQEo46dm"
      }
    },
    {
      "cell_type": "code",
      "source": [
        "clf_2.fit(X_train, y_train)"
      ],
      "metadata": {
        "id": "p3qzJKKA5sFl",
        "colab": {
          "base_uri": "https://localhost:8080/",
          "height": 80
        },
        "outputId": "02c28568-1f2b-403d-e05b-a23bd0a93c18"
      },
      "execution_count": null,
      "outputs": [
        {
          "output_type": "execute_result",
          "data": {
            "text/plain": [
              "BernoulliNB()"
            ],
            "text/html": [
              "<style>#sk-container-id-11 {\n",
              "  /* Definition of color scheme common for light and dark mode */\n",
              "  --sklearn-color-text: black;\n",
              "  --sklearn-color-line: gray;\n",
              "  /* Definition of color scheme for unfitted estimators */\n",
              "  --sklearn-color-unfitted-level-0: #fff5e6;\n",
              "  --sklearn-color-unfitted-level-1: #f6e4d2;\n",
              "  --sklearn-color-unfitted-level-2: #ffe0b3;\n",
              "  --sklearn-color-unfitted-level-3: chocolate;\n",
              "  /* Definition of color scheme for fitted estimators */\n",
              "  --sklearn-color-fitted-level-0: #f0f8ff;\n",
              "  --sklearn-color-fitted-level-1: #d4ebff;\n",
              "  --sklearn-color-fitted-level-2: #b3dbfd;\n",
              "  --sklearn-color-fitted-level-3: cornflowerblue;\n",
              "\n",
              "  /* Specific color for light theme */\n",
              "  --sklearn-color-text-on-default-background: var(--sg-text-color, var(--theme-code-foreground, var(--jp-content-font-color1, black)));\n",
              "  --sklearn-color-background: var(--sg-background-color, var(--theme-background, var(--jp-layout-color0, white)));\n",
              "  --sklearn-color-border-box: var(--sg-text-color, var(--theme-code-foreground, var(--jp-content-font-color1, black)));\n",
              "  --sklearn-color-icon: #696969;\n",
              "\n",
              "  @media (prefers-color-scheme: dark) {\n",
              "    /* Redefinition of color scheme for dark theme */\n",
              "    --sklearn-color-text-on-default-background: var(--sg-text-color, var(--theme-code-foreground, var(--jp-content-font-color1, white)));\n",
              "    --sklearn-color-background: var(--sg-background-color, var(--theme-background, var(--jp-layout-color0, #111)));\n",
              "    --sklearn-color-border-box: var(--sg-text-color, var(--theme-code-foreground, var(--jp-content-font-color1, white)));\n",
              "    --sklearn-color-icon: #878787;\n",
              "  }\n",
              "}\n",
              "\n",
              "#sk-container-id-11 {\n",
              "  color: var(--sklearn-color-text);\n",
              "}\n",
              "\n",
              "#sk-container-id-11 pre {\n",
              "  padding: 0;\n",
              "}\n",
              "\n",
              "#sk-container-id-11 input.sk-hidden--visually {\n",
              "  border: 0;\n",
              "  clip: rect(1px 1px 1px 1px);\n",
              "  clip: rect(1px, 1px, 1px, 1px);\n",
              "  height: 1px;\n",
              "  margin: -1px;\n",
              "  overflow: hidden;\n",
              "  padding: 0;\n",
              "  position: absolute;\n",
              "  width: 1px;\n",
              "}\n",
              "\n",
              "#sk-container-id-11 div.sk-dashed-wrapped {\n",
              "  border: 1px dashed var(--sklearn-color-line);\n",
              "  margin: 0 0.4em 0.5em 0.4em;\n",
              "  box-sizing: border-box;\n",
              "  padding-bottom: 0.4em;\n",
              "  background-color: var(--sklearn-color-background);\n",
              "}\n",
              "\n",
              "#sk-container-id-11 div.sk-container {\n",
              "  /* jupyter's `normalize.less` sets `[hidden] { display: none; }`\n",
              "     but bootstrap.min.css set `[hidden] { display: none !important; }`\n",
              "     so we also need the `!important` here to be able to override the\n",
              "     default hidden behavior on the sphinx rendered scikit-learn.org.\n",
              "     See: https://github.com/scikit-learn/scikit-learn/issues/21755 */\n",
              "  display: inline-block !important;\n",
              "  position: relative;\n",
              "}\n",
              "\n",
              "#sk-container-id-11 div.sk-text-repr-fallback {\n",
              "  display: none;\n",
              "}\n",
              "\n",
              "div.sk-parallel-item,\n",
              "div.sk-serial,\n",
              "div.sk-item {\n",
              "  /* draw centered vertical line to link estimators */\n",
              "  background-image: linear-gradient(var(--sklearn-color-text-on-default-background), var(--sklearn-color-text-on-default-background));\n",
              "  background-size: 2px 100%;\n",
              "  background-repeat: no-repeat;\n",
              "  background-position: center center;\n",
              "}\n",
              "\n",
              "/* Parallel-specific style estimator block */\n",
              "\n",
              "#sk-container-id-11 div.sk-parallel-item::after {\n",
              "  content: \"\";\n",
              "  width: 100%;\n",
              "  border-bottom: 2px solid var(--sklearn-color-text-on-default-background);\n",
              "  flex-grow: 1;\n",
              "}\n",
              "\n",
              "#sk-container-id-11 div.sk-parallel {\n",
              "  display: flex;\n",
              "  align-items: stretch;\n",
              "  justify-content: center;\n",
              "  background-color: var(--sklearn-color-background);\n",
              "  position: relative;\n",
              "}\n",
              "\n",
              "#sk-container-id-11 div.sk-parallel-item {\n",
              "  display: flex;\n",
              "  flex-direction: column;\n",
              "}\n",
              "\n",
              "#sk-container-id-11 div.sk-parallel-item:first-child::after {\n",
              "  align-self: flex-end;\n",
              "  width: 50%;\n",
              "}\n",
              "\n",
              "#sk-container-id-11 div.sk-parallel-item:last-child::after {\n",
              "  align-self: flex-start;\n",
              "  width: 50%;\n",
              "}\n",
              "\n",
              "#sk-container-id-11 div.sk-parallel-item:only-child::after {\n",
              "  width: 0;\n",
              "}\n",
              "\n",
              "/* Serial-specific style estimator block */\n",
              "\n",
              "#sk-container-id-11 div.sk-serial {\n",
              "  display: flex;\n",
              "  flex-direction: column;\n",
              "  align-items: center;\n",
              "  background-color: var(--sklearn-color-background);\n",
              "  padding-right: 1em;\n",
              "  padding-left: 1em;\n",
              "}\n",
              "\n",
              "\n",
              "/* Toggleable style: style used for estimator/Pipeline/ColumnTransformer box that is\n",
              "clickable and can be expanded/collapsed.\n",
              "- Pipeline and ColumnTransformer use this feature and define the default style\n",
              "- Estimators will overwrite some part of the style using the `sk-estimator` class\n",
              "*/\n",
              "\n",
              "/* Pipeline and ColumnTransformer style (default) */\n",
              "\n",
              "#sk-container-id-11 div.sk-toggleable {\n",
              "  /* Default theme specific background. It is overwritten whether we have a\n",
              "  specific estimator or a Pipeline/ColumnTransformer */\n",
              "  background-color: var(--sklearn-color-background);\n",
              "}\n",
              "\n",
              "/* Toggleable label */\n",
              "#sk-container-id-11 label.sk-toggleable__label {\n",
              "  cursor: pointer;\n",
              "  display: block;\n",
              "  width: 100%;\n",
              "  margin-bottom: 0;\n",
              "  padding: 0.5em;\n",
              "  box-sizing: border-box;\n",
              "  text-align: center;\n",
              "}\n",
              "\n",
              "#sk-container-id-11 label.sk-toggleable__label-arrow:before {\n",
              "  /* Arrow on the left of the label */\n",
              "  content: \"▸\";\n",
              "  float: left;\n",
              "  margin-right: 0.25em;\n",
              "  color: var(--sklearn-color-icon);\n",
              "}\n",
              "\n",
              "#sk-container-id-11 label.sk-toggleable__label-arrow:hover:before {\n",
              "  color: var(--sklearn-color-text);\n",
              "}\n",
              "\n",
              "/* Toggleable content - dropdown */\n",
              "\n",
              "#sk-container-id-11 div.sk-toggleable__content {\n",
              "  max-height: 0;\n",
              "  max-width: 0;\n",
              "  overflow: hidden;\n",
              "  text-align: left;\n",
              "  /* unfitted */\n",
              "  background-color: var(--sklearn-color-unfitted-level-0);\n",
              "}\n",
              "\n",
              "#sk-container-id-11 div.sk-toggleable__content.fitted {\n",
              "  /* fitted */\n",
              "  background-color: var(--sklearn-color-fitted-level-0);\n",
              "}\n",
              "\n",
              "#sk-container-id-11 div.sk-toggleable__content pre {\n",
              "  margin: 0.2em;\n",
              "  border-radius: 0.25em;\n",
              "  color: var(--sklearn-color-text);\n",
              "  /* unfitted */\n",
              "  background-color: var(--sklearn-color-unfitted-level-0);\n",
              "}\n",
              "\n",
              "#sk-container-id-11 div.sk-toggleable__content.fitted pre {\n",
              "  /* unfitted */\n",
              "  background-color: var(--sklearn-color-fitted-level-0);\n",
              "}\n",
              "\n",
              "#sk-container-id-11 input.sk-toggleable__control:checked~div.sk-toggleable__content {\n",
              "  /* Expand drop-down */\n",
              "  max-height: 200px;\n",
              "  max-width: 100%;\n",
              "  overflow: auto;\n",
              "}\n",
              "\n",
              "#sk-container-id-11 input.sk-toggleable__control:checked~label.sk-toggleable__label-arrow:before {\n",
              "  content: \"▾\";\n",
              "}\n",
              "\n",
              "/* Pipeline/ColumnTransformer-specific style */\n",
              "\n",
              "#sk-container-id-11 div.sk-label input.sk-toggleable__control:checked~label.sk-toggleable__label {\n",
              "  color: var(--sklearn-color-text);\n",
              "  background-color: var(--sklearn-color-unfitted-level-2);\n",
              "}\n",
              "\n",
              "#sk-container-id-11 div.sk-label.fitted input.sk-toggleable__control:checked~label.sk-toggleable__label {\n",
              "  background-color: var(--sklearn-color-fitted-level-2);\n",
              "}\n",
              "\n",
              "/* Estimator-specific style */\n",
              "\n",
              "/* Colorize estimator box */\n",
              "#sk-container-id-11 div.sk-estimator input.sk-toggleable__control:checked~label.sk-toggleable__label {\n",
              "  /* unfitted */\n",
              "  background-color: var(--sklearn-color-unfitted-level-2);\n",
              "}\n",
              "\n",
              "#sk-container-id-11 div.sk-estimator.fitted input.sk-toggleable__control:checked~label.sk-toggleable__label {\n",
              "  /* fitted */\n",
              "  background-color: var(--sklearn-color-fitted-level-2);\n",
              "}\n",
              "\n",
              "#sk-container-id-11 div.sk-label label.sk-toggleable__label,\n",
              "#sk-container-id-11 div.sk-label label {\n",
              "  /* The background is the default theme color */\n",
              "  color: var(--sklearn-color-text-on-default-background);\n",
              "}\n",
              "\n",
              "/* On hover, darken the color of the background */\n",
              "#sk-container-id-11 div.sk-label:hover label.sk-toggleable__label {\n",
              "  color: var(--sklearn-color-text);\n",
              "  background-color: var(--sklearn-color-unfitted-level-2);\n",
              "}\n",
              "\n",
              "/* Label box, darken color on hover, fitted */\n",
              "#sk-container-id-11 div.sk-label.fitted:hover label.sk-toggleable__label.fitted {\n",
              "  color: var(--sklearn-color-text);\n",
              "  background-color: var(--sklearn-color-fitted-level-2);\n",
              "}\n",
              "\n",
              "/* Estimator label */\n",
              "\n",
              "#sk-container-id-11 div.sk-label label {\n",
              "  font-family: monospace;\n",
              "  font-weight: bold;\n",
              "  display: inline-block;\n",
              "  line-height: 1.2em;\n",
              "}\n",
              "\n",
              "#sk-container-id-11 div.sk-label-container {\n",
              "  text-align: center;\n",
              "}\n",
              "\n",
              "/* Estimator-specific */\n",
              "#sk-container-id-11 div.sk-estimator {\n",
              "  font-family: monospace;\n",
              "  border: 1px dotted var(--sklearn-color-border-box);\n",
              "  border-radius: 0.25em;\n",
              "  box-sizing: border-box;\n",
              "  margin-bottom: 0.5em;\n",
              "  /* unfitted */\n",
              "  background-color: var(--sklearn-color-unfitted-level-0);\n",
              "}\n",
              "\n",
              "#sk-container-id-11 div.sk-estimator.fitted {\n",
              "  /* fitted */\n",
              "  background-color: var(--sklearn-color-fitted-level-0);\n",
              "}\n",
              "\n",
              "/* on hover */\n",
              "#sk-container-id-11 div.sk-estimator:hover {\n",
              "  /* unfitted */\n",
              "  background-color: var(--sklearn-color-unfitted-level-2);\n",
              "}\n",
              "\n",
              "#sk-container-id-11 div.sk-estimator.fitted:hover {\n",
              "  /* fitted */\n",
              "  background-color: var(--sklearn-color-fitted-level-2);\n",
              "}\n",
              "\n",
              "/* Specification for estimator info (e.g. \"i\" and \"?\") */\n",
              "\n",
              "/* Common style for \"i\" and \"?\" */\n",
              "\n",
              ".sk-estimator-doc-link,\n",
              "a:link.sk-estimator-doc-link,\n",
              "a:visited.sk-estimator-doc-link {\n",
              "  float: right;\n",
              "  font-size: smaller;\n",
              "  line-height: 1em;\n",
              "  font-family: monospace;\n",
              "  background-color: var(--sklearn-color-background);\n",
              "  border-radius: 1em;\n",
              "  height: 1em;\n",
              "  width: 1em;\n",
              "  text-decoration: none !important;\n",
              "  margin-left: 1ex;\n",
              "  /* unfitted */\n",
              "  border: var(--sklearn-color-unfitted-level-1) 1pt solid;\n",
              "  color: var(--sklearn-color-unfitted-level-1);\n",
              "}\n",
              "\n",
              ".sk-estimator-doc-link.fitted,\n",
              "a:link.sk-estimator-doc-link.fitted,\n",
              "a:visited.sk-estimator-doc-link.fitted {\n",
              "  /* fitted */\n",
              "  border: var(--sklearn-color-fitted-level-1) 1pt solid;\n",
              "  color: var(--sklearn-color-fitted-level-1);\n",
              "}\n",
              "\n",
              "/* On hover */\n",
              "div.sk-estimator:hover .sk-estimator-doc-link:hover,\n",
              ".sk-estimator-doc-link:hover,\n",
              "div.sk-label-container:hover .sk-estimator-doc-link:hover,\n",
              ".sk-estimator-doc-link:hover {\n",
              "  /* unfitted */\n",
              "  background-color: var(--sklearn-color-unfitted-level-3);\n",
              "  color: var(--sklearn-color-background);\n",
              "  text-decoration: none;\n",
              "}\n",
              "\n",
              "div.sk-estimator.fitted:hover .sk-estimator-doc-link.fitted:hover,\n",
              ".sk-estimator-doc-link.fitted:hover,\n",
              "div.sk-label-container:hover .sk-estimator-doc-link.fitted:hover,\n",
              ".sk-estimator-doc-link.fitted:hover {\n",
              "  /* fitted */\n",
              "  background-color: var(--sklearn-color-fitted-level-3);\n",
              "  color: var(--sklearn-color-background);\n",
              "  text-decoration: none;\n",
              "}\n",
              "\n",
              "/* Span, style for the box shown on hovering the info icon */\n",
              ".sk-estimator-doc-link span {\n",
              "  display: none;\n",
              "  z-index: 9999;\n",
              "  position: relative;\n",
              "  font-weight: normal;\n",
              "  right: .2ex;\n",
              "  padding: .5ex;\n",
              "  margin: .5ex;\n",
              "  width: min-content;\n",
              "  min-width: 20ex;\n",
              "  max-width: 50ex;\n",
              "  color: var(--sklearn-color-text);\n",
              "  box-shadow: 2pt 2pt 4pt #999;\n",
              "  /* unfitted */\n",
              "  background: var(--sklearn-color-unfitted-level-0);\n",
              "  border: .5pt solid var(--sklearn-color-unfitted-level-3);\n",
              "}\n",
              "\n",
              ".sk-estimator-doc-link.fitted span {\n",
              "  /* fitted */\n",
              "  background: var(--sklearn-color-fitted-level-0);\n",
              "  border: var(--sklearn-color-fitted-level-3);\n",
              "}\n",
              "\n",
              ".sk-estimator-doc-link:hover span {\n",
              "  display: block;\n",
              "}\n",
              "\n",
              "/* \"?\"-specific style due to the `<a>` HTML tag */\n",
              "\n",
              "#sk-container-id-11 a.estimator_doc_link {\n",
              "  float: right;\n",
              "  font-size: 1rem;\n",
              "  line-height: 1em;\n",
              "  font-family: monospace;\n",
              "  background-color: var(--sklearn-color-background);\n",
              "  border-radius: 1rem;\n",
              "  height: 1rem;\n",
              "  width: 1rem;\n",
              "  text-decoration: none;\n",
              "  /* unfitted */\n",
              "  color: var(--sklearn-color-unfitted-level-1);\n",
              "  border: var(--sklearn-color-unfitted-level-1) 1pt solid;\n",
              "}\n",
              "\n",
              "#sk-container-id-11 a.estimator_doc_link.fitted {\n",
              "  /* fitted */\n",
              "  border: var(--sklearn-color-fitted-level-1) 1pt solid;\n",
              "  color: var(--sklearn-color-fitted-level-1);\n",
              "}\n",
              "\n",
              "/* On hover */\n",
              "#sk-container-id-11 a.estimator_doc_link:hover {\n",
              "  /* unfitted */\n",
              "  background-color: var(--sklearn-color-unfitted-level-3);\n",
              "  color: var(--sklearn-color-background);\n",
              "  text-decoration: none;\n",
              "}\n",
              "\n",
              "#sk-container-id-11 a.estimator_doc_link.fitted:hover {\n",
              "  /* fitted */\n",
              "  background-color: var(--sklearn-color-fitted-level-3);\n",
              "}\n",
              "</style><div id=\"sk-container-id-11\" class=\"sk-top-container\"><div class=\"sk-text-repr-fallback\"><pre>BernoulliNB()</pre><b>In a Jupyter environment, please rerun this cell to show the HTML representation or trust the notebook. <br />On GitHub, the HTML representation is unable to render, please try loading this page with nbviewer.org.</b></div><div class=\"sk-container\" hidden><div class=\"sk-item\"><div class=\"sk-estimator fitted sk-toggleable\"><input class=\"sk-toggleable__control sk-hidden--visually\" id=\"sk-estimator-id-11\" type=\"checkbox\" checked><label for=\"sk-estimator-id-11\" class=\"sk-toggleable__label fitted sk-toggleable__label-arrow fitted\">&nbsp;&nbsp;BernoulliNB<a class=\"sk-estimator-doc-link fitted\" rel=\"noreferrer\" target=\"_blank\" href=\"https://scikit-learn.org/1.5/modules/generated/sklearn.naive_bayes.BernoulliNB.html\">?<span>Documentation for BernoulliNB</span></a><span class=\"sk-estimator-doc-link fitted\">i<span>Fitted</span></span></label><div class=\"sk-toggleable__content fitted\"><pre>BernoulliNB()</pre></div> </div></div></div></div>"
            ]
          },
          "metadata": {},
          "execution_count": 153
        }
      ]
    },
    {
      "cell_type": "markdown",
      "source": [
        "### 2.6.3 Generate predictions for train\n",
        "\n",
        "Generate a list `predictions_train` containing all the grade predictions for the train set [0.5 pt]"
      ],
      "metadata": {
        "id": "v1FXKs8v5A84"
      }
    },
    {
      "cell_type": "code",
      "source": [
        "predictions_train2 = clf_2.predict(X_train)"
      ],
      "metadata": {
        "id": "CtDPOLce5VKG"
      },
      "execution_count": null,
      "outputs": []
    },
    {
      "cell_type": "markdown",
      "source": [
        "### 2.6.4 Generate predictions for train\n",
        "\n",
        "Generate a list `predictions_test` containing all the grade predictions for the test set [0.5 pt]"
      ],
      "metadata": {
        "id": "eXwNLKat5X6W"
      }
    },
    {
      "cell_type": "code",
      "source": [
        "predictions_test2 = clf_2.predict(X_test)"
      ],
      "metadata": {
        "id": "UVHsYNXM5jC_"
      },
      "execution_count": null,
      "outputs": []
    },
    {
      "cell_type": "markdown",
      "source": [
        "<!-- BEGIN QUESTION -->\n",
        "\n",
        "### 2.6.5 Calculate accuracy\n",
        "\n",
        "Find the [accuracy](https://scikit-learn.org/stable/modules/generated/sklearn.metrics.accuracy_score.html) of **train** set for your model using above predictions. (Make sure you have imported the library) [0.5 pt]"
      ],
      "metadata": {
        "id": "ji-gKIVj5yG-"
      }
    },
    {
      "cell_type": "code",
      "source": [
        "NB_acc_train = accuracy_score(y_train, predictions_train2)\n",
        "print(NB_acc_train)"
      ],
      "metadata": {
        "id": "bPZ_ZGUi53R2",
        "colab": {
          "base_uri": "https://localhost:8080/"
        },
        "outputId": "49801bac-fc1a-4771-d9ea-75b9c2865dc5"
      },
      "execution_count": null,
      "outputs": [
        {
          "output_type": "stream",
          "name": "stdout",
          "text": [
            "0.535840188014101\n"
          ]
        }
      ]
    },
    {
      "cell_type": "markdown",
      "source": [
        "<!-- END QUESTION -->\n",
        "\n",
        "Find the accuracy of test set for your model using above predictions. [0.5 pt]"
      ],
      "metadata": {
        "id": "g0rgeiaQ53lZ"
      }
    },
    {
      "cell_type": "code",
      "source": [
        "NB_acc_test = accuracy_score(y_test, predictions_test2)\n",
        "print(NB_acc_test)"
      ],
      "metadata": {
        "id": "f7HkWg9i58Nl",
        "colab": {
          "base_uri": "https://localhost:8080/"
        },
        "outputId": "d7f5cd1d-6740-4ceb-c815-982ea2529048"
      },
      "execution_count": null,
      "outputs": [
        {
          "output_type": "stream",
          "name": "stdout",
          "text": [
            "0.5305164319248826\n"
          ]
        }
      ]
    },
    {
      "cell_type": "code",
      "source": [
        "print(\"proportion of data with high_humidity_label=1:\", df['high_humidity_label'].sum() / len(df))"
      ],
      "metadata": {
        "colab": {
          "base_uri": "https://localhost:8080/"
        },
        "id": "1BdTj7D9K5Fp",
        "outputId": "f72ebf30-09b4-458e-d1d6-08ae70744538"
      },
      "execution_count": null,
      "outputs": [
        {
          "output_type": "stream",
          "name": "stdout",
          "text": [
            "proportion of data with high_humidity_label=1: 0.49718045112781956\n"
          ]
        }
      ]
    },
    {
      "cell_type": "markdown",
      "source": [
        "<!-- BEGIN QUESTION -->\n",
        "\n",
        "Which accuracy (test or train) is higher? Why? [0.5 pt]"
      ],
      "metadata": {
        "id": "QF5dOK3B481Q"
      }
    },
    {
      "cell_type": "code",
      "source": [
        "# Write your reasoning in words here\n",
        "# For this naive bayes model, after having run it several times,\n",
        "# the train accuracy and test accuracy actually alternate being higher or lower\n",
        "# between runs. This may indicate that the data is noisy, that the algorithm\n",
        "# doesn't work well for this dataset, or there is some degree of overfitting\n",
        "# or underfitting occurring."
      ],
      "metadata": {
        "id": "uSsmbYV76A5U"
      },
      "execution_count": null,
      "outputs": []
    },
    {
      "cell_type": "markdown",
      "source": [
        "## 2.7: Video\n",
        "\n",
        "Create a video with the following components:\n",
        "* Explain why you chose the two classifier models you chose in part 2. [1 pt]\n",
        "* Explain the steps you took to code each model briefly (creating the model, fitting the classifier to the data, generating predictions, calculating accuracy). Also explain how you generated train/test sets. [2 pts]\n",
        "* Compare the results of both the models based on your generated accuracies. [1 pt]\n",
        "\n",
        "\n",
        "Additionally (and this is important), ensure you follow the format the video submission. If one of these criteria is missing, we will not grade the video.\n",
        "* Show some form of ID at the start of the video so we know who you are.\n",
        "* Show your code in the video by screensharing.\n",
        "* Show your face in the video.\n",
        "\n"
      ],
      "metadata": {
        "id": "MTkF5WV919Sn"
      }
    },
    {
      "cell_type": "markdown",
      "source": [
        "LINK TO YOUR VIDEO HERE: https://drive.google.com/file/d/13gxe9JW829IJVjFSLXNW-WjqpNtvqyUJ/view?usp=sharing"
      ],
      "metadata": {
        "id": "eSH1zxxr8ymH"
      }
    },
    {
      "cell_type": "markdown",
      "metadata": {
        "id": "DkdgGEA0jqUy"
      },
      "source": [
        "# Submission\n",
        "\n",
        "Before you submit your notebook, ensure that you've run all the cells sequentially to display images, graphs, and outputs correctly. Take the time to review your solutions and evaluate using the public test cases. Once you're satisfied, save your notebook by navigating to \"File\" in the Jupyter Notebook menu and selecting \"Save\" or using the keyboard shortcut (usually Ctrl + S or Cmd + S).\n",
        "\n",
        "To submit, export your notebook as an .ipynb file. Ensure it's saved with the same name as the assignment. Then, upload this .ipynb file to Gradescope. Remember to submit the correct version.\n",
        "\n",
        "Please save your work before exporting it, and if you encounter any technical issues or have questions about the submission process, reach out to the course staff for assistance"
      ]
    }
  ],
  "metadata": {
    "colab": {
      "provenance": [],
      "include_colab_link": true
    },
    "kernelspec": {
      "display_name": "Python 3 (ipykernel)",
      "language": "python",
      "name": "python3"
    },
    "language_info": {
      "codemirror_mode": {
        "name": "ipython",
        "version": 3
      },
      "file_extension": ".py",
      "mimetype": "text/x-python",
      "name": "python",
      "nbconvert_exporter": "python",
      "pygments_lexer": "ipython3",
      "version": "3.11.5"
    },
    "otter": {
      "OK_FORMAT": true,
      "tests": {
        "q12": {
          "name": "q12",
          "points": 1,
          "suites": [
            {
              "cases": [],
              "scored": true,
              "setup": "",
              "teardown": "",
              "type": "doctest"
            }
          ]
        },
        "q3": {
          "name": "q3",
          "points": 0.5,
          "suites": [
            {
              "cases": [],
              "scored": true,
              "setup": "",
              "teardown": "",
              "type": "doctest"
            }
          ]
        },
        "q4": {
          "name": "q4",
          "points": 0.5,
          "suites": [
            {
              "cases": [],
              "scored": true,
              "setup": "",
              "teardown": "",
              "type": "doctest"
            }
          ]
        },
        "q5": {
          "name": "q5",
          "points": 0.5,
          "suites": [
            {
              "cases": [],
              "scored": true,
              "setup": "",
              "teardown": "",
              "type": "doctest"
            }
          ]
        },
        "q7": {
          "name": "q7",
          "points": 0.5,
          "suites": [
            {
              "cases": [],
              "scored": true,
              "setup": "",
              "teardown": "",
              "type": "doctest"
            }
          ]
        },
        "q8": {
          "name": "q8",
          "points": 0.5,
          "suites": [
            {
              "cases": [],
              "scored": true,
              "setup": "",
              "teardown": "",
              "type": "doctest"
            }
          ]
        }
      }
    },
    "vscode": {
      "interpreter": {
        "hash": "5c7b89af1651d0b8571dde13640ecdccf7d5a6204171d6ab33e7c296e100e08a"
      }
    }
  },
  "nbformat": 4,
  "nbformat_minor": 0
}