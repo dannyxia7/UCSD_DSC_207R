{
  "nbformat": 4,
  "nbformat_minor": 0,
  "metadata": {
    "colab": {
      "provenance": []
    },
    "kernelspec": {
      "name": "python3",
      "display_name": "Python 3"
    },
    "language_info": {
      "name": "python"
    }
  },
  "cells": [
    {
      "cell_type": "code",
      "execution_count": null,
      "metadata": {
        "id": "O6Uz0XS7fdPp"
      },
      "outputs": [],
      "source": [
        "from google.colab import drive\n",
        "import pandas as pd\n",
        "import numpy as np\n",
        "import matplotlib.pyplot as plt\n",
        "import seaborn as sns"
      ]
    },
    {
      "cell_type": "code",
      "source": [
        "drive.mount(\"/content/drive\")"
      ],
      "metadata": {
        "colab": {
          "base_uri": "https://localhost:8080/",
          "height": 287
        },
        "id": "Kmj5U5Mpf_Kb",
        "outputId": "384704b5-b62d-415e-b87a-40a6ae2c409b"
      },
      "execution_count": null,
      "outputs": [
        {
          "output_type": "error",
          "ename": "MessageError",
          "evalue": "Error: credential propagation was unsuccessful",
          "traceback": [
            "\u001b[0;31m---------------------------------------------------------------------------\u001b[0m",
            "\u001b[0;31mMessageError\u001b[0m                              Traceback (most recent call last)",
            "\u001b[0;32m<ipython-input-2-ef5b1e3843da>\u001b[0m in \u001b[0;36m<cell line: 1>\u001b[0;34m()\u001b[0m\n\u001b[0;32m----> 1\u001b[0;31m \u001b[0mdrive\u001b[0m\u001b[0;34m.\u001b[0m\u001b[0mmount\u001b[0m\u001b[0;34m(\u001b[0m\u001b[0;34m\"/content/drive\"\u001b[0m\u001b[0;34m)\u001b[0m\u001b[0;34m\u001b[0m\u001b[0;34m\u001b[0m\u001b[0m\n\u001b[0m",
            "\u001b[0;32m/usr/local/lib/python3.10/dist-packages/google/colab/drive.py\u001b[0m in \u001b[0;36mmount\u001b[0;34m(mountpoint, force_remount, timeout_ms, readonly)\u001b[0m\n\u001b[1;32m     98\u001b[0m \u001b[0;32mdef\u001b[0m \u001b[0mmount\u001b[0m\u001b[0;34m(\u001b[0m\u001b[0mmountpoint\u001b[0m\u001b[0;34m,\u001b[0m \u001b[0mforce_remount\u001b[0m\u001b[0;34m=\u001b[0m\u001b[0;32mFalse\u001b[0m\u001b[0;34m,\u001b[0m \u001b[0mtimeout_ms\u001b[0m\u001b[0;34m=\u001b[0m\u001b[0;36m120000\u001b[0m\u001b[0;34m,\u001b[0m \u001b[0mreadonly\u001b[0m\u001b[0;34m=\u001b[0m\u001b[0;32mFalse\u001b[0m\u001b[0;34m)\u001b[0m\u001b[0;34m:\u001b[0m\u001b[0;34m\u001b[0m\u001b[0;34m\u001b[0m\u001b[0m\n\u001b[1;32m     99\u001b[0m   \u001b[0;34m\"\"\"Mount your Google Drive at the specified mountpoint path.\"\"\"\u001b[0m\u001b[0;34m\u001b[0m\u001b[0;34m\u001b[0m\u001b[0m\n\u001b[0;32m--> 100\u001b[0;31m   return _mount(\n\u001b[0m\u001b[1;32m    101\u001b[0m       \u001b[0mmountpoint\u001b[0m\u001b[0;34m,\u001b[0m\u001b[0;34m\u001b[0m\u001b[0;34m\u001b[0m\u001b[0m\n\u001b[1;32m    102\u001b[0m       \u001b[0mforce_remount\u001b[0m\u001b[0;34m=\u001b[0m\u001b[0mforce_remount\u001b[0m\u001b[0;34m,\u001b[0m\u001b[0;34m\u001b[0m\u001b[0;34m\u001b[0m\u001b[0m\n",
            "\u001b[0;32m/usr/local/lib/python3.10/dist-packages/google/colab/drive.py\u001b[0m in \u001b[0;36m_mount\u001b[0;34m(mountpoint, force_remount, timeout_ms, ephemeral, readonly)\u001b[0m\n\u001b[1;32m    135\u001b[0m   )\n\u001b[1;32m    136\u001b[0m   \u001b[0;32mif\u001b[0m \u001b[0mephemeral\u001b[0m\u001b[0;34m:\u001b[0m\u001b[0;34m\u001b[0m\u001b[0;34m\u001b[0m\u001b[0m\n\u001b[0;32m--> 137\u001b[0;31m     _message.blocking_request(\n\u001b[0m\u001b[1;32m    138\u001b[0m         \u001b[0;34m'request_auth'\u001b[0m\u001b[0;34m,\u001b[0m\u001b[0;34m\u001b[0m\u001b[0;34m\u001b[0m\u001b[0m\n\u001b[1;32m    139\u001b[0m         \u001b[0mrequest\u001b[0m\u001b[0;34m=\u001b[0m\u001b[0;34m{\u001b[0m\u001b[0;34m'authType'\u001b[0m\u001b[0;34m:\u001b[0m \u001b[0;34m'dfs_ephemeral'\u001b[0m\u001b[0;34m}\u001b[0m\u001b[0;34m,\u001b[0m\u001b[0;34m\u001b[0m\u001b[0;34m\u001b[0m\u001b[0m\n",
            "\u001b[0;32m/usr/local/lib/python3.10/dist-packages/google/colab/_message.py\u001b[0m in \u001b[0;36mblocking_request\u001b[0;34m(request_type, request, timeout_sec, parent)\u001b[0m\n\u001b[1;32m    174\u001b[0m       \u001b[0mrequest_type\u001b[0m\u001b[0;34m,\u001b[0m \u001b[0mrequest\u001b[0m\u001b[0;34m,\u001b[0m \u001b[0mparent\u001b[0m\u001b[0;34m=\u001b[0m\u001b[0mparent\u001b[0m\u001b[0;34m,\u001b[0m \u001b[0mexpect_reply\u001b[0m\u001b[0;34m=\u001b[0m\u001b[0;32mTrue\u001b[0m\u001b[0;34m\u001b[0m\u001b[0;34m\u001b[0m\u001b[0m\n\u001b[1;32m    175\u001b[0m   )\n\u001b[0;32m--> 176\u001b[0;31m   \u001b[0;32mreturn\u001b[0m \u001b[0mread_reply_from_input\u001b[0m\u001b[0;34m(\u001b[0m\u001b[0mrequest_id\u001b[0m\u001b[0;34m,\u001b[0m \u001b[0mtimeout_sec\u001b[0m\u001b[0;34m)\u001b[0m\u001b[0;34m\u001b[0m\u001b[0;34m\u001b[0m\u001b[0m\n\u001b[0m",
            "\u001b[0;32m/usr/local/lib/python3.10/dist-packages/google/colab/_message.py\u001b[0m in \u001b[0;36mread_reply_from_input\u001b[0;34m(message_id, timeout_sec)\u001b[0m\n\u001b[1;32m    101\u001b[0m     ):\n\u001b[1;32m    102\u001b[0m       \u001b[0;32mif\u001b[0m \u001b[0;34m'error'\u001b[0m \u001b[0;32min\u001b[0m \u001b[0mreply\u001b[0m\u001b[0;34m:\u001b[0m\u001b[0;34m\u001b[0m\u001b[0;34m\u001b[0m\u001b[0m\n\u001b[0;32m--> 103\u001b[0;31m         \u001b[0;32mraise\u001b[0m \u001b[0mMessageError\u001b[0m\u001b[0;34m(\u001b[0m\u001b[0mreply\u001b[0m\u001b[0;34m[\u001b[0m\u001b[0;34m'error'\u001b[0m\u001b[0;34m]\u001b[0m\u001b[0;34m)\u001b[0m\u001b[0;34m\u001b[0m\u001b[0;34m\u001b[0m\u001b[0m\n\u001b[0m\u001b[1;32m    104\u001b[0m       \u001b[0;32mreturn\u001b[0m \u001b[0mreply\u001b[0m\u001b[0;34m.\u001b[0m\u001b[0mget\u001b[0m\u001b[0;34m(\u001b[0m\u001b[0;34m'data'\u001b[0m\u001b[0;34m,\u001b[0m \u001b[0;32mNone\u001b[0m\u001b[0;34m)\u001b[0m\u001b[0;34m\u001b[0m\u001b[0;34m\u001b[0m\u001b[0m\n\u001b[1;32m    105\u001b[0m \u001b[0;34m\u001b[0m\u001b[0m\n",
            "\u001b[0;31mMessageError\u001b[0m: Error: credential propagation was unsuccessful"
          ]
        }
      ]
    },
    {
      "cell_type": "code",
      "source": [
        "df = pd.read_csv(\"/content/drive/MyDrive/207R Files/2016.csv\")"
      ],
      "metadata": {
        "id": "lXEBCxC3gSrz"
      },
      "execution_count": null,
      "outputs": []
    },
    {
      "cell_type": "code",
      "source": [
        "df.head(10)"
      ],
      "metadata": {
        "id": "moBOnZ_gg7h9"
      },
      "execution_count": null,
      "outputs": []
    },
    {
      "cell_type": "code",
      "source": [
        "df.tail(10)"
      ],
      "metadata": {
        "id": "G59uwupxpoB6"
      },
      "execution_count": null,
      "outputs": []
    },
    {
      "cell_type": "code",
      "source": [
        "df.info()"
      ],
      "metadata": {
        "id": "R0xgKuNKhGP3"
      },
      "execution_count": null,
      "outputs": []
    },
    {
      "cell_type": "markdown",
      "source": [
        "##High Level View\n",
        "\n",
        "This dataset contains information about many countries (data samples) in the world related to the happiness of their citizens. It has the Dystopia Residual metric, which compares each country to a hypothetical dystopia with the least happy people in the world, and many variables like GDP, life expectancy, etc., as well as Happiness Rank and Happiness Score to try and quantify happiness."
      ],
      "metadata": {
        "id": "YwheSSinhKHu"
      }
    },
    {
      "cell_type": "code",
      "source": [
        "# No null values in any column\n",
        "df.isnull().sum()"
      ],
      "metadata": {
        "id": "b9tqnSYhhHOj"
      },
      "execution_count": null,
      "outputs": []
    },
    {
      "cell_type": "code",
      "source": [
        "plt.figure(figsize=(15,10))\n",
        "sns.boxplot(df.drop(\"Happiness Rank\", axis=1))\n",
        "plt.xticks(fontsize=5)"
      ],
      "metadata": {
        "id": "yM7aBA5ikICV"
      },
      "execution_count": null,
      "outputs": []
    },
    {
      "cell_type": "code",
      "source": [
        "fig, axes = plt.subplots(2, 2, figsize=(10, 8))\n",
        "sns.regplot(x=\"Happiness Score\", y=\"Economy (GDP per Capita)\", data=df, ax=axes[0,0])\n",
        "sns.regplot(x=\"Happiness Score\", y=\"Freedom\", data=df, ax=axes[0,1])\n",
        "sns.regplot(x=\"Happiness Score\", y=\"Health (Life Expectancy)\", data=df, ax=axes[1,0])\n",
        "sns.regplot(x=\"Happiness Score\", y=\"Trust (Government Corruption)\", data=df, ax=axes[1,1])"
      ],
      "metadata": {
        "id": "2ZIOv4xUpvnS"
      },
      "execution_count": null,
      "outputs": []
    },
    {
      "cell_type": "code",
      "source": [
        "df.describe()"
      ],
      "metadata": {
        "id": "pyxK_Yuok4kd"
      },
      "execution_count": null,
      "outputs": []
    },
    {
      "cell_type": "code",
      "source": [
        "print(df[df[\"Generosity\"] == 0][\"Country\"])\n",
        "df[df[\"Country\"] == \"Greece\"].head()\n",
        "# print(df[df[\"Freedom\"] == 0][\"Country\"])\n",
        "# print(df[df[\"Trust (Government Corruption)\"] == 0][\"Country\"])\n",
        "# print(df[df[\"Family\"] == 0][\"Country\"])\n",
        "# print(df[df[\"Economy (GDP per Capita)\"] <= .01][\"Country\"])\n",
        "# print(df[df[\"Health (Life Expectancy)\"] <= .01][\"Country\"])"
      ],
      "metadata": {
        "id": "ht2cRYQpmULl"
      },
      "execution_count": null,
      "outputs": []
    },
    {
      "cell_type": "markdown",
      "source": [
        "#Preliminary Exploration\n",
        "\n",
        "There aren't any null values in the dataset, and the potential outliers where variables like freedom and generosity were equal to zero seem to be legitimate. So the dataset doesn't seem to have many quality issues and doesn't really need much pre-processing. One transformaton we could do is subtract the constant value from the dystopia residual to get the actual residual values, but this isn't necessary.\n",
        "\n",
        "\n",
        "Judging by the correlation plots, the given variables all seem to have an influence on happiness score, with Economy and Health having the strongest linear relationship, and Freedom and Trust having the weakest linear relationship upon initial inspection. For the Economy, Family, Health, and Freedom, there is a left skew, indicating that there are countries with very low scores in these categories that are disproportionately affecting the data."
      ],
      "metadata": {
        "id": "O2tfC9GGl_lz"
      }
    },
    {
      "cell_type": "markdown",
      "source": [
        "#Objectives\n",
        "\n",
        "1. What is the relationship between generosity and happiness score?\n",
        "\n",
        "2. Which regions of the world have the highest/lowest happiness scores?\n",
        "\n",
        "3. If we split the dataset in half based on happiness rank, do the relationships between any of the variables and the happiness score change?"
      ],
      "metadata": {
        "id": "gHuHAe1QotS1"
      }
    },
    {
      "cell_type": "markdown",
      "source": [
        "#Objective 1\n",
        "We are using a scatter plot of the Happiness Score and Generosity to see if there are any potential relationships between the two variables. We are also using a heatmap to see the strength of correlation between the two variables in numerical terms."
      ],
      "metadata": {
        "id": "FRNcS55vx1h0"
      }
    },
    {
      "cell_type": "code",
      "source": [
        "sns.scatterplot(x=\"Happiness Score\", y=\"Generosity\", data=df).set_title(\"Scatterplot of Happiness Score and Generosity\")"
      ],
      "metadata": {
        "id": "bpnJ0r4ZqaZY"
      },
      "execution_count": null,
      "outputs": []
    },
    {
      "cell_type": "code",
      "source": [
        "corr = df.drop([\"Country\", \"Region\", \"Lower Confidence Interval\", \"Upper Confidence Interval\"], axis=1).corr()\n",
        "sns.heatmap(corr, annot=True, fmt=\".1f\")"
      ],
      "metadata": {
        "id": "70FvwNogvriV"
      },
      "execution_count": null,
      "outputs": []
    },
    {
      "cell_type": "markdown",
      "source": [
        "#Objective 1 Conclusion\n",
        "\n",
        "Generosity does not seem to have a strong linear relationship with happiness score based on visual inspection of the scatterplot as well as the 0.2 correlaton score in the heatmap."
      ],
      "metadata": {
        "id": "TqzR7SJaw0rh"
      }
    },
    {
      "cell_type": "markdown",
      "source": [
        "#Objective 2\n",
        "\n",
        "To answer this question, we need to drop the country column and group by the region column and apply the mean function to the grouped dataframe."
      ],
      "metadata": {
        "id": "An_22lxayL9q"
      }
    },
    {
      "cell_type": "code",
      "source": [
        "region_df = df.drop(\"Country\", axis=1).groupby(\"Region\").mean().sort_values(\"Happiness Score\", ascending=False)\n",
        "region_df.info()\n",
        "region_df.head(10)\n",
        "#print(region_df[\"Region\"].unique())"
      ],
      "metadata": {
        "id": "oI9_E4rd3bf5"
      },
      "execution_count": null,
      "outputs": []
    },
    {
      "cell_type": "code",
      "source": [
        "plt.figure(figsize=(10, 6))\n",
        "sns.barplot(x=\"Region\", y=\"Happiness Score\", data = region_df, palette=\"viridis\").set_title(\"Happiness Score by Region\")\n",
        "plt.xlabel(\"Region\")\n",
        "plt.ylabel(\"Happiness Score\")\n",
        "plt.xticks(rotation=45, fontsize=8)\n",
        "plt.show()"
      ],
      "metadata": {
        "id": "PkWt9FIC3q7g"
      },
      "execution_count": null,
      "outputs": []
    },
    {
      "cell_type": "markdown",
      "source": [
        "#Objective 2 Conclusion\n",
        "\n",
        "I decided to use a box plot to compare the mean Happiness Scores by region to show the ranks of each region by happiness score. It turns out that Australia and New Zealand have the highest happiness score while Sub-Saharan Africa has the lowest happiness score. Predictably, Economy and Health seem to have a very strong correlation with the rank of the region."
      ],
      "metadata": {
        "id": "o1lP49dH8lNo"
      }
    },
    {
      "cell_type": "markdown",
      "source": [
        "#Objective 3\n",
        "\n",
        "I split the dataset into halves and created a heatmap of both, as well as a heatmap of the difference between their correlations so that I could potentially see a difference in the effects of any of the variables for countries with higher happiness scores versus countries with lower happiness scores."
      ],
      "metadata": {
        "id": "cMXDYdpPEcqN"
      }
    },
    {
      "cell_type": "code",
      "source": [
        "half = len(df) // 2\n",
        "df_first_half = df.iloc[:half]\n",
        "df_second_half = df.iloc[half:]\n",
        "df_first_half.info()\n",
        "#df_first_half.head(10)\n",
        "df_second_half.info()\n",
        "df_second_half.head(10)"
      ],
      "metadata": {
        "id": "8jp2m5BY6alI"
      },
      "execution_count": null,
      "outputs": []
    },
    {
      "cell_type": "code",
      "source": [
        "df_1_corr = df_first_half.drop([\"Country\", \"Region\", \"Lower Confidence Interval\", \"Upper Confidence Interval\"], axis=1).corr()\n",
        "sns.heatmap(df_1_corr, annot=True, fmt=\".2f\")"
      ],
      "metadata": {
        "id": "K3uJiT8H-L6P"
      },
      "execution_count": null,
      "outputs": []
    },
    {
      "cell_type": "code",
      "source": [
        "df_2_corr = df_second_half.drop([\"Country\", \"Region\", \"Lower Confidence Interval\", \"Upper Confidence Interval\"], axis=1).corr()\n",
        "sns.heatmap(df_2_corr, annot=True, fmt=\".2f\")"
      ],
      "metadata": {
        "id": "o-TK74-3-qcC"
      },
      "execution_count": null,
      "outputs": []
    },
    {
      "cell_type": "code",
      "source": [
        "df_corr_diff = df_1_corr - df_2_corr\n",
        "sns.heatmap(df_corr_diff, annot=True, fmt=\".2f\").set_title(\"Difference in Correlation (First Half - Second Half)\")"
      ],
      "metadata": {
        "id": "qDFLR55u-_f6"
      },
      "execution_count": null,
      "outputs": []
    },
    {
      "cell_type": "code",
      "source": [
        "fig, axes = plt.subplots(1, 2, figsize=(10, 8))\n",
        "sns.scatterplot(x=\"Happiness Score\", y=\"Trust (Government Corruption)\", data=df_first_half, ax=axes[0]\n",
        "  ).set_title(\"Scatterplot of Happiness Score and Trust--First Half\", fontsize=10)\n",
        "axes[0].set_xticks([1,2,3,4,5,6,7,8])\n",
        "axes[0].set_yticks([0.1,0.2,0.3,0.4,0.5,0.6,0.7])\n",
        "\n",
        "sns.scatterplot(x=\"Happiness Score\", y=\"Trust (Government Corruption)\", data=df_second_half,ax=axes[1]\n",
        "  ).set_title(\"Scatterplot of Happiness Score and Trust--Second Half\", fontsize=10)\n",
        "axes[1].set_xticks([1,2,3,4,5,6,7,8])\n",
        "axes[1].set_yticks([0.1,0.2,0.3,0.4,0.5,0.6,0.7])"
      ],
      "metadata": {
        "id": "QsfE8ZDu_qXj"
      },
      "execution_count": null,
      "outputs": []
    },
    {
      "cell_type": "code",
      "source": [
        "fig, axes = plt.subplots(1, 2, figsize=(10, 8))\n",
        "sns.scatterplot(x=\"Happiness Score\", y=\"Generosity\", data=df_first_half, ax=axes[0]\n",
        "  ).set_title(\"Scatterplot of Happiness Score and Generosity--First Half\", fontsize=10)\n",
        "axes[0].set_xticks([1,2,3,4,5,6,7,8])\n",
        "axes[0].set_yticks([0.1,0.2,0.3,0.4,0.5,0.6,0.7])\n",
        "\n",
        "sns.scatterplot(x=\"Happiness Score\", y=\"Generosity\", data=df_second_half,ax=axes[1]\n",
        "  ).set_title(\"Scatterplot of Happiness Score and Generosity--Second Half\", fontsize=10)\n",
        "axes[1].set_xticks([1,2,3,4,5,6,7,8])\n",
        "axes[1].set_yticks([0.1,0.2,0.3,0.4,0.5,0.6,0.7])"
      ],
      "metadata": {
        "id": "jEl0tovnA-aC"
      },
      "execution_count": null,
      "outputs": []
    },
    {
      "cell_type": "markdown",
      "source": [
        "#Objective 3 Conclusion\n",
        "The difference between the correlation plots seemed to indicate that Trust and Generosity have different effects on countries in the first half of the dataset and countries in the second half. I then plotted these variables against Happiness Score on four scatterplots, two for each half, but the difference did not seem very clear in the plots. I'm unsure whether or not there's a difference in the effect of these variables on Happiness Score and would probably have to do some hypothesis testing to get a better answer.\n",
        "\n"
      ],
      "metadata": {
        "id": "XHmQ50fME9Wz"
      }
    },
    {
      "cell_type": "markdown",
      "source": [
        "#Potential Ethical Issue:\n",
        "\n",
        "One ethical issue I can think of would be whether these numbers are all accurately reported. For example, a country may have a vested interest in boosting its happiness score for optics, so they might report higher numbers on metrics like generosity or trust to earn a higher happiness rank over other countries. There is precedent for this kind of behavior, like during the COVID pandemic, when countries would underreport cases to make the situation seem better than it was.\n"
      ],
      "metadata": {
        "id": "J7pqA5LVFmK-"
      }
    },
    {
      "cell_type": "code",
      "source": [],
      "metadata": {
        "id": "PK9wu_fDGIzS"
      },
      "execution_count": null,
      "outputs": []
    }
  ]
}