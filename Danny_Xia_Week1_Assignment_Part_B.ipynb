{
  "cells": [
    {
      "cell_type": "markdown",
      "metadata": {
        "id": "view-in-github",
        "colab_type": "text"
      },
      "source": [
        "<a href=\"https://colab.research.google.com/github/dannyxia7/UCSD_DSC_207R/blob/main/Danny_Xia_Week1_Assignment_Part_B.ipynb\" target=\"_parent\"><img src=\"https://colab.research.google.com/assets/colab-badge.svg\" alt=\"Open In Colab\"/></a>"
      ]
    },
    {
      "cell_type": "markdown",
      "metadata": {
        "id": "hoNse2eKKxzr"
      },
      "source": [
        "# Week 1 Study Notebook\n",
        "\n",
        "# UC San Diego OMDS DSC 207\n",
        "\n",
        "## Check your Python skills while using Colab notebooks."
      ]
    },
    {
      "cell_type": "markdown",
      "metadata": {
        "id": "Qs9X4Vd_67t0"
      },
      "source": [
        "### Installing Otter-Grader\n",
        "\n",
        "Otter-Grader is a powerful tool that helps you check your work before submitting assignments. To get started with Otter-Grader, you need to install it within this Colab notebook.\n",
        "\n",
        "To install Otter-Grader, simply run the below code cell.\n",
        "\n",
        "Note that questions 1-9 are autograded, while question 10 will be graded manually."
      ]
    },
    {
      "cell_type": "code",
      "execution_count": null,
      "metadata": {
        "id": "blOhv7NA67t0",
        "colab": {
          "base_uri": "https://localhost:8080/"
        },
        "outputId": "d7a84bad-e0e4-45ff-abf4-5058cf660bda"
      },
      "outputs": [
        {
          "output_type": "stream",
          "name": "stdout",
          "text": [
            "Collecting otter-grader\n",
            "  Downloading otter_grader-5.7.1-py3-none-any.whl.metadata (2.9 kB)\n",
            "Collecting dill (from otter-grader)\n",
            "  Downloading dill-0.3.9-py3-none-any.whl.metadata (10 kB)\n",
            "Requirement already satisfied: jinja2 in /usr/local/lib/python3.10/dist-packages (from otter-grader) (3.1.4)\n",
            "Requirement already satisfied: nbformat in /usr/local/lib/python3.10/dist-packages (from otter-grader) (5.10.4)\n",
            "Requirement already satisfied: pandas in /usr/local/lib/python3.10/dist-packages (from otter-grader) (2.2.2)\n",
            "Requirement already satisfied: PyYAML in /usr/local/lib/python3.10/dist-packages (from otter-grader) (6.0.2)\n",
            "Collecting python-on-whales (from otter-grader)\n",
            "  Downloading python_on_whales-0.73.0-py3-none-any.whl.metadata (18 kB)\n",
            "Requirement already satisfied: requests in /usr/local/lib/python3.10/dist-packages (from otter-grader) (2.32.3)\n",
            "Requirement already satisfied: wrapt in /usr/local/lib/python3.10/dist-packages (from otter-grader) (1.16.0)\n",
            "Collecting jupytext (from otter-grader)\n",
            "  Downloading jupytext-1.16.4-py3-none-any.whl.metadata (13 kB)\n",
            "Requirement already satisfied: click in /usr/local/lib/python3.10/dist-packages (from otter-grader) (8.1.7)\n",
            "Collecting fica>=0.3.1 (from otter-grader)\n",
            "  Downloading fica-0.4.1-py3-none-any.whl.metadata (2.0 kB)\n",
            "Requirement already satisfied: ipython in /usr/local/lib/python3.10/dist-packages (from otter-grader) (7.34.0)\n",
            "Requirement already satisfied: astunparse in /usr/local/lib/python3.10/dist-packages (from otter-grader) (1.6.3)\n",
            "Requirement already satisfied: ipywidgets in /usr/local/lib/python3.10/dist-packages (from otter-grader) (7.7.1)\n",
            "Collecting ipylab (from otter-grader)\n",
            "  Downloading ipylab-1.0.0-py3-none-any.whl.metadata (6.7 kB)\n",
            "Requirement already satisfied: setuptools in /usr/local/lib/python3.10/dist-packages (from otter-grader) (71.0.4)\n",
            "Requirement already satisfied: nbconvert in /usr/local/lib/python3.10/dist-packages (from otter-grader) (6.5.4)\n",
            "Requirement already satisfied: docutils in /usr/local/lib/python3.10/dist-packages (from fica>=0.3.1->otter-grader) (0.18.1)\n",
            "Requirement already satisfied: sphinx in /usr/local/lib/python3.10/dist-packages (from fica>=0.3.1->otter-grader) (5.0.2)\n",
            "Requirement already satisfied: wheel<1.0,>=0.23.0 in /usr/local/lib/python3.10/dist-packages (from astunparse->otter-grader) (0.44.0)\n",
            "Requirement already satisfied: six<2.0,>=1.6.1 in /usr/local/lib/python3.10/dist-packages (from astunparse->otter-grader) (1.16.0)\n",
            "Requirement already satisfied: ipykernel>=4.5.1 in /usr/local/lib/python3.10/dist-packages (from ipywidgets->otter-grader) (5.5.6)\n",
            "Requirement already satisfied: ipython-genutils~=0.2.0 in /usr/local/lib/python3.10/dist-packages (from ipywidgets->otter-grader) (0.2.0)\n",
            "Requirement already satisfied: traitlets>=4.3.1 in /usr/local/lib/python3.10/dist-packages (from ipywidgets->otter-grader) (5.7.1)\n",
            "Requirement already satisfied: widgetsnbextension~=3.6.0 in /usr/local/lib/python3.10/dist-packages (from ipywidgets->otter-grader) (3.6.9)\n",
            "Requirement already satisfied: jupyterlab-widgets>=1.0.0 in /usr/local/lib/python3.10/dist-packages (from ipywidgets->otter-grader) (3.0.13)\n",
            "Collecting jedi>=0.16 (from ipython->otter-grader)\n",
            "  Using cached jedi-0.19.1-py2.py3-none-any.whl.metadata (22 kB)\n",
            "Requirement already satisfied: decorator in /usr/local/lib/python3.10/dist-packages (from ipython->otter-grader) (4.4.2)\n",
            "Requirement already satisfied: pickleshare in /usr/local/lib/python3.10/dist-packages (from ipython->otter-grader) (0.7.5)\n",
            "Requirement already satisfied: prompt-toolkit!=3.0.0,!=3.0.1,<3.1.0,>=2.0.0 in /usr/local/lib/python3.10/dist-packages (from ipython->otter-grader) (3.0.48)\n",
            "Requirement already satisfied: pygments in /usr/local/lib/python3.10/dist-packages (from ipython->otter-grader) (2.18.0)\n",
            "Requirement already satisfied: backcall in /usr/local/lib/python3.10/dist-packages (from ipython->otter-grader) (0.2.0)\n",
            "Requirement already satisfied: matplotlib-inline in /usr/local/lib/python3.10/dist-packages (from ipython->otter-grader) (0.1.7)\n",
            "Requirement already satisfied: pexpect>4.3 in /usr/local/lib/python3.10/dist-packages (from ipython->otter-grader) (4.9.0)\n",
            "Requirement already satisfied: MarkupSafe>=2.0 in /usr/local/lib/python3.10/dist-packages (from jinja2->otter-grader) (2.1.5)\n",
            "Requirement already satisfied: markdown-it-py>=1.0 in /usr/local/lib/python3.10/dist-packages (from jupytext->otter-grader) (3.0.0)\n",
            "Requirement already satisfied: mdit-py-plugins in /usr/local/lib/python3.10/dist-packages (from jupytext->otter-grader) (0.4.2)\n",
            "Requirement already satisfied: packaging in /usr/local/lib/python3.10/dist-packages (from jupytext->otter-grader) (24.1)\n",
            "Requirement already satisfied: tomli in /usr/local/lib/python3.10/dist-packages (from jupytext->otter-grader) (2.0.1)\n",
            "Requirement already satisfied: lxml in /usr/local/lib/python3.10/dist-packages (from nbconvert->otter-grader) (4.9.4)\n",
            "Requirement already satisfied: beautifulsoup4 in /usr/local/lib/python3.10/dist-packages (from nbconvert->otter-grader) (4.12.3)\n",
            "Requirement already satisfied: bleach in /usr/local/lib/python3.10/dist-packages (from nbconvert->otter-grader) (6.1.0)\n",
            "Requirement already satisfied: defusedxml in /usr/local/lib/python3.10/dist-packages (from nbconvert->otter-grader) (0.7.1)\n",
            "Requirement already satisfied: entrypoints>=0.2.2 in /usr/local/lib/python3.10/dist-packages (from nbconvert->otter-grader) (0.4)\n",
            "Requirement already satisfied: jupyter-core>=4.7 in /usr/local/lib/python3.10/dist-packages (from nbconvert->otter-grader) (5.7.2)\n",
            "Requirement already satisfied: jupyterlab-pygments in /usr/local/lib/python3.10/dist-packages (from nbconvert->otter-grader) (0.3.0)\n",
            "Requirement already satisfied: mistune<2,>=0.8.1 in /usr/local/lib/python3.10/dist-packages (from nbconvert->otter-grader) (0.8.4)\n",
            "Requirement already satisfied: nbclient>=0.5.0 in /usr/local/lib/python3.10/dist-packages (from nbconvert->otter-grader) (0.10.0)\n",
            "Requirement already satisfied: pandocfilters>=1.4.1 in /usr/local/lib/python3.10/dist-packages (from nbconvert->otter-grader) (1.5.1)\n",
            "Requirement already satisfied: tinycss2 in /usr/local/lib/python3.10/dist-packages (from nbconvert->otter-grader) (1.3.0)\n",
            "Requirement already satisfied: fastjsonschema>=2.15 in /usr/local/lib/python3.10/dist-packages (from nbformat->otter-grader) (2.20.0)\n",
            "Requirement already satisfied: jsonschema>=2.6 in /usr/local/lib/python3.10/dist-packages (from nbformat->otter-grader) (4.23.0)\n",
            "Requirement already satisfied: numpy>=1.22.4 in /usr/local/lib/python3.10/dist-packages (from pandas->otter-grader) (1.26.4)\n",
            "Requirement already satisfied: python-dateutil>=2.8.2 in /usr/local/lib/python3.10/dist-packages (from pandas->otter-grader) (2.8.2)\n",
            "Requirement already satisfied: pytz>=2020.1 in /usr/local/lib/python3.10/dist-packages (from pandas->otter-grader) (2024.2)\n",
            "Requirement already satisfied: tzdata>=2022.7 in /usr/local/lib/python3.10/dist-packages (from pandas->otter-grader) (2024.2)\n",
            "Requirement already satisfied: pydantic!=2.0.*,<3,>=2 in /usr/local/lib/python3.10/dist-packages (from python-on-whales->otter-grader) (2.9.2)\n",
            "Requirement already satisfied: tqdm in /usr/local/lib/python3.10/dist-packages (from python-on-whales->otter-grader) (4.66.5)\n",
            "Requirement already satisfied: typer>=0.4.1 in /usr/local/lib/python3.10/dist-packages (from python-on-whales->otter-grader) (0.12.5)\n",
            "Requirement already satisfied: typing-extensions in /usr/local/lib/python3.10/dist-packages (from python-on-whales->otter-grader) (4.12.2)\n",
            "Requirement already satisfied: charset-normalizer<4,>=2 in /usr/local/lib/python3.10/dist-packages (from requests->otter-grader) (3.3.2)\n",
            "Requirement already satisfied: idna<4,>=2.5 in /usr/local/lib/python3.10/dist-packages (from requests->otter-grader) (3.10)\n",
            "Requirement already satisfied: urllib3<3,>=1.21.1 in /usr/local/lib/python3.10/dist-packages (from requests->otter-grader) (2.2.3)\n",
            "Requirement already satisfied: certifi>=2017.4.17 in /usr/local/lib/python3.10/dist-packages (from requests->otter-grader) (2024.8.30)\n",
            "Requirement already satisfied: jupyter-client in /usr/local/lib/python3.10/dist-packages (from ipykernel>=4.5.1->ipywidgets->otter-grader) (6.1.12)\n",
            "Requirement already satisfied: tornado>=4.2 in /usr/local/lib/python3.10/dist-packages (from ipykernel>=4.5.1->ipywidgets->otter-grader) (6.3.3)\n",
            "Requirement already satisfied: parso<0.9.0,>=0.8.3 in /usr/local/lib/python3.10/dist-packages (from jedi>=0.16->ipython->otter-grader) (0.8.4)\n",
            "Requirement already satisfied: attrs>=22.2.0 in /usr/local/lib/python3.10/dist-packages (from jsonschema>=2.6->nbformat->otter-grader) (24.2.0)\n",
            "Requirement already satisfied: jsonschema-specifications>=2023.03.6 in /usr/local/lib/python3.10/dist-packages (from jsonschema>=2.6->nbformat->otter-grader) (2023.12.1)\n",
            "Requirement already satisfied: referencing>=0.28.4 in /usr/local/lib/python3.10/dist-packages (from jsonschema>=2.6->nbformat->otter-grader) (0.35.1)\n",
            "Requirement already satisfied: rpds-py>=0.7.1 in /usr/local/lib/python3.10/dist-packages (from jsonschema>=2.6->nbformat->otter-grader) (0.20.0)\n",
            "Requirement already satisfied: platformdirs>=2.5 in /usr/local/lib/python3.10/dist-packages (from jupyter-core>=4.7->nbconvert->otter-grader) (4.3.6)\n",
            "Requirement already satisfied: mdurl~=0.1 in /usr/local/lib/python3.10/dist-packages (from markdown-it-py>=1.0->jupytext->otter-grader) (0.1.2)\n",
            "Requirement already satisfied: ptyprocess>=0.5 in /usr/local/lib/python3.10/dist-packages (from pexpect>4.3->ipython->otter-grader) (0.7.0)\n",
            "Requirement already satisfied: wcwidth in /usr/local/lib/python3.10/dist-packages (from prompt-toolkit!=3.0.0,!=3.0.1,<3.1.0,>=2.0.0->ipython->otter-grader) (0.2.13)\n",
            "Requirement already satisfied: annotated-types>=0.6.0 in /usr/local/lib/python3.10/dist-packages (from pydantic!=2.0.*,<3,>=2->python-on-whales->otter-grader) (0.7.0)\n",
            "Requirement already satisfied: pydantic-core==2.23.4 in /usr/local/lib/python3.10/dist-packages (from pydantic!=2.0.*,<3,>=2->python-on-whales->otter-grader) (2.23.4)\n",
            "Requirement already satisfied: shellingham>=1.3.0 in /usr/local/lib/python3.10/dist-packages (from typer>=0.4.1->python-on-whales->otter-grader) (1.5.4)\n",
            "Requirement already satisfied: rich>=10.11.0 in /usr/local/lib/python3.10/dist-packages (from typer>=0.4.1->python-on-whales->otter-grader) (13.8.1)\n",
            "Requirement already satisfied: notebook>=4.4.1 in /usr/local/lib/python3.10/dist-packages (from widgetsnbextension~=3.6.0->ipywidgets->otter-grader) (6.5.5)\n",
            "Requirement already satisfied: soupsieve>1.2 in /usr/local/lib/python3.10/dist-packages (from beautifulsoup4->nbconvert->otter-grader) (2.6)\n",
            "Requirement already satisfied: webencodings in /usr/local/lib/python3.10/dist-packages (from bleach->nbconvert->otter-grader) (0.5.1)\n",
            "Requirement already satisfied: sphinxcontrib-applehelp in /usr/local/lib/python3.10/dist-packages (from sphinx->fica>=0.3.1->otter-grader) (2.0.0)\n",
            "Requirement already satisfied: sphinxcontrib-devhelp in /usr/local/lib/python3.10/dist-packages (from sphinx->fica>=0.3.1->otter-grader) (2.0.0)\n",
            "Requirement already satisfied: sphinxcontrib-jsmath in /usr/local/lib/python3.10/dist-packages (from sphinx->fica>=0.3.1->otter-grader) (1.0.1)\n",
            "Requirement already satisfied: sphinxcontrib-htmlhelp>=2.0.0 in /usr/local/lib/python3.10/dist-packages (from sphinx->fica>=0.3.1->otter-grader) (2.1.0)\n",
            "Requirement already satisfied: sphinxcontrib-serializinghtml>=1.1.5 in /usr/local/lib/python3.10/dist-packages (from sphinx->fica>=0.3.1->otter-grader) (2.0.0)\n",
            "Requirement already satisfied: sphinxcontrib-qthelp in /usr/local/lib/python3.10/dist-packages (from sphinx->fica>=0.3.1->otter-grader) (2.0.0)\n",
            "Requirement already satisfied: snowballstemmer>=1.1 in /usr/local/lib/python3.10/dist-packages (from sphinx->fica>=0.3.1->otter-grader) (2.2.0)\n",
            "Requirement already satisfied: babel>=1.3 in /usr/local/lib/python3.10/dist-packages (from sphinx->fica>=0.3.1->otter-grader) (2.16.0)\n",
            "Requirement already satisfied: alabaster<0.8,>=0.7 in /usr/local/lib/python3.10/dist-packages (from sphinx->fica>=0.3.1->otter-grader) (0.7.16)\n",
            "Requirement already satisfied: imagesize in /usr/local/lib/python3.10/dist-packages (from sphinx->fica>=0.3.1->otter-grader) (1.4.1)\n",
            "Requirement already satisfied: pyzmq>=13 in /usr/local/lib/python3.10/dist-packages (from jupyter-client->ipykernel>=4.5.1->ipywidgets->otter-grader) (24.0.1)\n",
            "Requirement already satisfied: argon2-cffi in /usr/local/lib/python3.10/dist-packages (from notebook>=4.4.1->widgetsnbextension~=3.6.0->ipywidgets->otter-grader) (23.1.0)\n",
            "Requirement already satisfied: nest-asyncio>=1.5 in /usr/local/lib/python3.10/dist-packages (from notebook>=4.4.1->widgetsnbextension~=3.6.0->ipywidgets->otter-grader) (1.6.0)\n",
            "Requirement already satisfied: Send2Trash>=1.8.0 in /usr/local/lib/python3.10/dist-packages (from notebook>=4.4.1->widgetsnbextension~=3.6.0->ipywidgets->otter-grader) (1.8.3)\n",
            "Requirement already satisfied: terminado>=0.8.3 in /usr/local/lib/python3.10/dist-packages (from notebook>=4.4.1->widgetsnbextension~=3.6.0->ipywidgets->otter-grader) (0.18.1)\n",
            "Requirement already satisfied: prometheus-client in /usr/local/lib/python3.10/dist-packages (from notebook>=4.4.1->widgetsnbextension~=3.6.0->ipywidgets->otter-grader) (0.21.0)\n",
            "Requirement already satisfied: nbclassic>=0.4.7 in /usr/local/lib/python3.10/dist-packages (from notebook>=4.4.1->widgetsnbextension~=3.6.0->ipywidgets->otter-grader) (1.1.0)\n",
            "Requirement already satisfied: notebook-shim>=0.2.3 in /usr/local/lib/python3.10/dist-packages (from nbclassic>=0.4.7->notebook>=4.4.1->widgetsnbextension~=3.6.0->ipywidgets->otter-grader) (0.2.4)\n",
            "Requirement already satisfied: argon2-cffi-bindings in /usr/local/lib/python3.10/dist-packages (from argon2-cffi->notebook>=4.4.1->widgetsnbextension~=3.6.0->ipywidgets->otter-grader) (21.2.0)\n",
            "Requirement already satisfied: jupyter-server<3,>=1.8 in /usr/local/lib/python3.10/dist-packages (from notebook-shim>=0.2.3->nbclassic>=0.4.7->notebook>=4.4.1->widgetsnbextension~=3.6.0->ipywidgets->otter-grader) (1.24.0)\n",
            "Requirement already satisfied: cffi>=1.0.1 in /usr/local/lib/python3.10/dist-packages (from argon2-cffi-bindings->argon2-cffi->notebook>=4.4.1->widgetsnbextension~=3.6.0->ipywidgets->otter-grader) (1.17.1)\n",
            "Requirement already satisfied: pycparser in /usr/local/lib/python3.10/dist-packages (from cffi>=1.0.1->argon2-cffi-bindings->argon2-cffi->notebook>=4.4.1->widgetsnbextension~=3.6.0->ipywidgets->otter-grader) (2.22)\n",
            "Requirement already satisfied: anyio<4,>=3.1.0 in /usr/local/lib/python3.10/dist-packages (from jupyter-server<3,>=1.8->notebook-shim>=0.2.3->nbclassic>=0.4.7->notebook>=4.4.1->widgetsnbextension~=3.6.0->ipywidgets->otter-grader) (3.7.1)\n",
            "Requirement already satisfied: websocket-client in /usr/local/lib/python3.10/dist-packages (from jupyter-server<3,>=1.8->notebook-shim>=0.2.3->nbclassic>=0.4.7->notebook>=4.4.1->widgetsnbextension~=3.6.0->ipywidgets->otter-grader) (1.8.0)\n",
            "Requirement already satisfied: sniffio>=1.1 in /usr/local/lib/python3.10/dist-packages (from anyio<4,>=3.1.0->jupyter-server<3,>=1.8->notebook-shim>=0.2.3->nbclassic>=0.4.7->notebook>=4.4.1->widgetsnbextension~=3.6.0->ipywidgets->otter-grader) (1.3.1)\n",
            "Requirement already satisfied: exceptiongroup in /usr/local/lib/python3.10/dist-packages (from anyio<4,>=3.1.0->jupyter-server<3,>=1.8->notebook-shim>=0.2.3->nbclassic>=0.4.7->notebook>=4.4.1->widgetsnbextension~=3.6.0->ipywidgets->otter-grader) (1.2.2)\n",
            "Downloading otter_grader-5.7.1-py3-none-any.whl (162 kB)\n",
            "\u001b[2K   \u001b[90m━━━━━━━━━━━━━━━━━━━━━━━━━━━━━━━━━━━━━━━━\u001b[0m \u001b[32m162.1/162.1 kB\u001b[0m \u001b[31m1.9 MB/s\u001b[0m eta \u001b[36m0:00:00\u001b[0m\n",
            "\u001b[?25hDownloading fica-0.4.1-py3-none-any.whl (13 kB)\n",
            "Downloading dill-0.3.9-py3-none-any.whl (119 kB)\n",
            "\u001b[2K   \u001b[90m━━━━━━━━━━━━━━━━━━━━━━━━━━━━━━━━━━━━━━━━\u001b[0m \u001b[32m119.4/119.4 kB\u001b[0m \u001b[31m8.6 MB/s\u001b[0m eta \u001b[36m0:00:00\u001b[0m\n",
            "\u001b[?25hDownloading ipylab-1.0.0-py3-none-any.whl (100 kB)\n",
            "\u001b[2K   \u001b[90m━━━━━━━━━━━━━━━━━━━━━━━━━━━━━━━━━━━━━━━━\u001b[0m \u001b[32m100.2/100.2 kB\u001b[0m \u001b[31m7.9 MB/s\u001b[0m eta \u001b[36m0:00:00\u001b[0m\n",
            "\u001b[?25hDownloading jupytext-1.16.4-py3-none-any.whl (153 kB)\n",
            "\u001b[2K   \u001b[90m━━━━━━━━━━━━━━━━━━━━━━━━━━━━━━━━━━━━━━━━\u001b[0m \u001b[32m153.5/153.5 kB\u001b[0m \u001b[31m9.5 MB/s\u001b[0m eta \u001b[36m0:00:00\u001b[0m\n",
            "\u001b[?25hDownloading python_on_whales-0.73.0-py3-none-any.whl (118 kB)\n",
            "\u001b[2K   \u001b[90m━━━━━━━━━━━━━━━━━━━━━━━━━━━━━━━━━━━━━━━━\u001b[0m \u001b[32m118.1/118.1 kB\u001b[0m \u001b[31m8.4 MB/s\u001b[0m eta \u001b[36m0:00:00\u001b[0m\n",
            "\u001b[?25hUsing cached jedi-0.19.1-py2.py3-none-any.whl (1.6 MB)\n",
            "Installing collected packages: jedi, dill, fica, python-on-whales, jupytext, ipylab, otter-grader\n",
            "Successfully installed dill-0.3.9 fica-0.4.1 ipylab-1.0.0 jedi-0.19.1 jupytext-1.16.4 otter-grader-5.7.1 python-on-whales-0.73.0\n",
            "--2024-10-04 05:05:39--  https://github.com/dsc207rfall2023/fa23course-dsc207r/raw/main/assignments/Week%201/tests.zip\n",
            "Resolving github.com (github.com)... 140.82.113.4\n",
            "Connecting to github.com (github.com)|140.82.113.4|:443... connected.\n",
            "HTTP request sent, awaiting response... 302 Found\n",
            "Location: https://raw.githubusercontent.com/dsc207rfall2023/fa23course-dsc207r/main/assignments/Week%201/tests.zip [following]\n",
            "--2024-10-04 05:05:39--  https://raw.githubusercontent.com/dsc207rfall2023/fa23course-dsc207r/main/assignments/Week%201/tests.zip\n",
            "Resolving raw.githubusercontent.com (raw.githubusercontent.com)... 185.199.110.133, 185.199.108.133, 185.199.111.133, ...\n",
            "Connecting to raw.githubusercontent.com (raw.githubusercontent.com)|185.199.110.133|:443... connected.\n",
            "HTTP request sent, awaiting response... 200 OK\n",
            "Length: 3391 (3.3K) [application/zip]\n",
            "Saving to: ‘tests.zip’\n",
            "\n",
            "tests.zip           100%[===================>]   3.31K  --.-KB/s    in 0s      \n",
            "\n",
            "2024-10-04 05:05:39 (59.2 MB/s) - ‘tests.zip’ saved [3391/3391]\n",
            "\n",
            "Archive:  tests.zip\n",
            "   creating: tests/\n",
            "  inflating: tests/q5.py             \n",
            "  inflating: tests/q1.py             \n",
            "  inflating: tests/q9.py             \n",
            "  inflating: tests/q8.py             \n",
            "  inflating: tests/q3.py             \n",
            "  inflating: tests/q7.py             \n",
            "  inflating: tests/q6.py             \n",
            "  inflating: tests/q2.py             \n"
          ]
        }
      ],
      "source": [
        "# DO NOT MODIFY\n",
        "%pip install otter-grader\n",
        "\n",
        "files = \"https://github.com/dsc207rfall2023/fa23course-dsc207r/raw/main/assignments/Week%201/tests.zip\"\n",
        "!wget $files && unzip -o tests.zip"
      ]
    },
    {
      "cell_type": "code",
      "execution_count": null,
      "metadata": {
        "id": "7nhkED6n67t1"
      },
      "outputs": [],
      "source": [
        "# Initialize Otter\n",
        "import otter\n",
        "grader = otter.Notebook()"
      ]
    },
    {
      "cell_type": "markdown",
      "metadata": {
        "id": "pOgkMZpd67t1"
      },
      "source": [
        "### Loading Python modules"
      ]
    },
    {
      "cell_type": "code",
      "execution_count": null,
      "metadata": {
        "id": "qeEsNYNv67t1"
      },
      "outputs": [],
      "source": [
        "import pandas as pd\n",
        "import numpy as np\n",
        "\n",
        "# ADD ADDITIONAL PYTHON MODULES BELOW\n",
        "import math"
      ]
    },
    {
      "cell_type": "markdown",
      "metadata": {
        "deletable": false,
        "editable": false,
        "id": "NFhqf_KQKxzv"
      },
      "source": [
        "### 1.  Write a program to swap a string and an int variable and print their data types to verify the swapping operation\n",
        "\n",
        "* Initialize 2 variables my_int = 5 , and my_str = \"Hi\"\n",
        "* Swap these variables such that my_int now holds the value of my_float and vice versa\n",
        "* Verify this by printing their data types\n",
        "\n",
        "_Points:_ 5"
      ]
    },
    {
      "cell_type": "code",
      "execution_count": null,
      "metadata": {
        "id": "Cjg3iFUKKxzv",
        "tags": [],
        "colab": {
          "base_uri": "https://localhost:8080/"
        },
        "outputId": "31635066-fada-4bff-dd5b-b7cea909b368"
      },
      "outputs": [
        {
          "output_type": "execute_result",
          "data": {
            "text/plain": [
              "int"
            ]
          },
          "metadata": {},
          "execution_count": 26
        }
      ],
      "source": [
        "my_int = 5\n",
        "my_str = \"Hi\"\n",
        "dummy_var = my_int\n",
        "my_int = my_str\n",
        "my_str = dummy_var\n",
        "type(my_int)\n",
        "type(my_str)"
      ]
    },
    {
      "cell_type": "code",
      "execution_count": null,
      "metadata": {
        "deletable": false,
        "editable": false,
        "id": "YixXL3e267t2",
        "colab": {
          "base_uri": "https://localhost:8080/",
          "height": 46
        },
        "outputId": "02858e16-e088-4a7d-c104-35c63b40b79c"
      },
      "outputs": [
        {
          "output_type": "execute_result",
          "data": {
            "text/plain": [
              "q1 results: All test cases passed!"
            ],
            "text/html": [
              "<p><strong><pre style='display: inline;'>q1</pre></strong> passed! 🎉</p>"
            ]
          },
          "metadata": {},
          "execution_count": 27
        }
      ],
      "source": [
        "grader.check(\"q1\")"
      ]
    },
    {
      "cell_type": "markdown",
      "metadata": {
        "deletable": false,
        "editable": false,
        "id": "5bqlJypQ67t2"
      },
      "source": [
        "### 2. Write a Python Program to Calculate the length of the diagonal of a rectangle\n",
        "\n",
        "* Initialize the 2 sides of the rectangle a and b to 5 and 6\n",
        "* Calculate the length of the diagonal using the formula - diagonal = √(a^2 + b^2)\n",
        "\n",
        "_Points:_ 5"
      ]
    },
    {
      "cell_type": "code",
      "execution_count": null,
      "metadata": {
        "tags": [],
        "id": "8W7tU3RO67t2"
      },
      "outputs": [],
      "source": [
        "def calc_diag(a, b):\n",
        "    return math.sqrt(a**2 + b**2)"
      ]
    },
    {
      "cell_type": "code",
      "execution_count": null,
      "metadata": {
        "deletable": false,
        "editable": false,
        "id": "-0hhTjMI67t3",
        "colab": {
          "base_uri": "https://localhost:8080/",
          "height": 46
        },
        "outputId": "c7f37793-234e-4923-aba1-071d47469766"
      },
      "outputs": [
        {
          "output_type": "execute_result",
          "data": {
            "text/plain": [
              "q2 results: All test cases passed!"
            ],
            "text/html": [
              "<p><strong><pre style='display: inline;'>q2</pre></strong> passed! 🍀</p>"
            ]
          },
          "metadata": {},
          "execution_count": 37
        }
      ],
      "source": [
        "grader.check(\"q2\")"
      ]
    },
    {
      "cell_type": "markdown",
      "metadata": {
        "deletable": false,
        "editable": false,
        "id": "xhbMjv_r67t3"
      },
      "source": [
        "### 3. Write a Python Program to Check if a Number is divisible by 3\n",
        "\n",
        "* Initialize a variable that takes input from user\n",
        "* Check and return True or False if the number is divisible by 3\n",
        "* If the input is not an int, return False\n",
        "\n",
        "_Points:_ 10"
      ]
    },
    {
      "cell_type": "code",
      "execution_count": null,
      "metadata": {
        "tags": [],
        "id": "p1CPNjkn67t3"
      },
      "outputs": [],
      "source": [
        "def is_divisible_by_3(num):\n",
        "    if type(num) != int:\n",
        "      return False\n",
        "    if num % 3 == 0:\n",
        "      return True\n",
        "    else:\n",
        "      return False"
      ]
    },
    {
      "cell_type": "code",
      "execution_count": null,
      "metadata": {
        "deletable": false,
        "editable": false,
        "id": "MUZYfr4G67t3",
        "colab": {
          "base_uri": "https://localhost:8080/",
          "height": 46
        },
        "outputId": "5cb2552d-c36b-451a-fec4-161ab2177561"
      },
      "outputs": [
        {
          "output_type": "execute_result",
          "data": {
            "text/plain": [
              "q3 results: All test cases passed!"
            ],
            "text/html": [
              "<p><strong><pre style='display: inline;'>q3</pre></strong> passed! 🙌</p>"
            ]
          },
          "metadata": {},
          "execution_count": 43
        }
      ],
      "source": [
        "grader.check(\"q3\")"
      ]
    },
    {
      "cell_type": "markdown",
      "metadata": {
        "deletable": false,
        "editable": false,
        "id": "dR4crtGj67t3"
      },
      "source": [
        "<!-- BEGIN QUESTION -->\n",
        "\n",
        "### 4. Write a Python Program to Check if a number has exactly 3 digits (no zeros allowed at the beginning and the number can be assumed to be positive)\n",
        "\n",
        "* Initialize a variable that takes input from user(input will be given as a string)\n",
        "* Check and print if the number has exactly 3 digits(no zeros allowed at the beginning)\n",
        "* Read about type casting in python and use type casting from string to int\n",
        "\n",
        "_Points:_ 10"
      ]
    },
    {
      "cell_type": "code",
      "execution_count": null,
      "metadata": {
        "tags": [],
        "id": "VIzuABE767t3",
        "colab": {
          "base_uri": "https://localhost:8080/"
        },
        "outputId": "dcfe736a-2e8e-4ea4-e9c3-06dac084ccc5"
      },
      "outputs": [
        {
          "output_type": "stream",
          "name": "stdout",
          "text": [
            "type in a number: 040\n",
            "number can't start with 0\n"
          ]
        }
      ],
      "source": [
        "def is_3_digits():\n",
        "  num = input(\"type in a number: \")\n",
        "  if num[0] == \"0\":\n",
        "    print(\"number can't start with 0\")\n",
        "  num = int(num)\n",
        "  if num % 1000 == 0:\n",
        "    print(\"nunber has exactly 3 digits\")\n",
        "\n",
        "is_3_digits()"
      ]
    },
    {
      "cell_type": "markdown",
      "metadata": {
        "deletable": false,
        "editable": false,
        "id": "tD6ilcyF67t3"
      },
      "source": [
        "<!-- END QUESTION -->\n",
        "\n",
        "### 5. Write a Python Program to Check Whether a String is Palindrome or Not\n",
        "\n",
        "* Initialize a string\n",
        "* Lower case it to allow easy comparison\n",
        "* Check using if-else statements if the string is a palindrome\n",
        "* A palindrome is a string which is same read forward or backwards.\n",
        "\n",
        "_Points:_ 10"
      ]
    },
    {
      "cell_type": "code",
      "execution_count": null,
      "metadata": {
        "tags": [],
        "id": "6jdYIEuf67t3"
      },
      "outputs": [],
      "source": [
        "def if_palindrome(x):\n",
        "    x_str = str(x).lower()\n",
        "    i = 0\n",
        "    j = len(x_str) - 1\n",
        "    while i < j:\n",
        "      if x_str[i] != x_str[j]:\n",
        "        return False\n",
        "      i += 1\n",
        "      j -= 1\n",
        "\n",
        "    return True"
      ]
    },
    {
      "cell_type": "code",
      "execution_count": null,
      "metadata": {
        "deletable": false,
        "editable": false,
        "id": "mEvOiSy-67t3",
        "colab": {
          "base_uri": "https://localhost:8080/",
          "height": 46
        },
        "outputId": "fbafe8e4-f8e8-41e7-b823-523594961c1d"
      },
      "outputs": [
        {
          "output_type": "execute_result",
          "data": {
            "text/plain": [
              "q5 results: All test cases passed!"
            ],
            "text/html": [
              "<p><strong><pre style='display: inline;'>q5</pre></strong> passed! ✨</p>"
            ]
          },
          "metadata": {},
          "execution_count": 53
        }
      ],
      "source": [
        "grader.check(\"q5\")"
      ]
    },
    {
      "cell_type": "markdown",
      "metadata": {
        "deletable": false,
        "editable": false,
        "id": "FtczNzyi67t4"
      },
      "source": [
        "### 6.  **Print numbers divisible by 5 between 4 and 30, inclusive**\n",
        "\n",
        "* Iterate through the numbers in the for loop and notice the way range has been used to generate numbers in the for loop\n",
        "* Produce a list and print containing only the numbers divisible by 5 using if statement\n",
        "\n",
        "_Points:_ 5"
      ]
    },
    {
      "cell_type": "code",
      "execution_count": null,
      "metadata": {
        "tags": [],
        "id": "MbAynci_67t4",
        "colab": {
          "base_uri": "https://localhost:8080/"
        },
        "outputId": "e45635e0-7c21-4eb2-a47a-2e82716bd1c6"
      },
      "outputs": [
        {
          "output_type": "stream",
          "name": "stdout",
          "text": [
            "[5, 10, 15, 20, 25, 30]\n"
          ]
        }
      ],
      "source": [
        "sol = []\n",
        "for i in range(4, 31):\n",
        "  if (i % 5) == 0:\n",
        "    sol.append(i)\n",
        "print(sol)"
      ]
    },
    {
      "cell_type": "code",
      "execution_count": null,
      "metadata": {
        "deletable": false,
        "editable": false,
        "id": "ImE3KEDD67t4",
        "colab": {
          "base_uri": "https://localhost:8080/",
          "height": 46
        },
        "outputId": "4637cfa7-8410-443e-9b33-13b268418cbc"
      },
      "outputs": [
        {
          "output_type": "execute_result",
          "data": {
            "text/plain": [
              "q6 results: All test cases passed!"
            ],
            "text/html": [
              "<p><strong><pre style='display: inline;'>q6</pre></strong> passed! 🚀</p>"
            ]
          },
          "metadata": {},
          "execution_count": 63
        }
      ],
      "source": [
        "grader.check(\"q6\")"
      ]
    },
    {
      "cell_type": "markdown",
      "metadata": {
        "deletable": false,
        "editable": false,
        "id": "jEF32_Bh67t4"
      },
      "source": [
        "### 7. Write a Python Program to print the first n numbers of the Fibonacci series starting from 0\n",
        "\n",
        "* Use a loop and return a list of first n numbers of the Fibonacci series: 0,1,1,2,3,....\n",
        "\n",
        "\n",
        "_Points:_ 15"
      ]
    },
    {
      "cell_type": "code",
      "execution_count": null,
      "metadata": {
        "tags": [],
        "id": "gCY3aRa367t4",
        "colab": {
          "base_uri": "https://localhost:8080/"
        },
        "outputId": "c1c9caa2-4278-4dd0-f435-09cecf179416"
      },
      "outputs": [
        {
          "output_type": "stream",
          "name": "stdout",
          "text": [
            "[0, 1, 1, 2, 3]\n"
          ]
        }
      ],
      "source": [
        "def fibonacci(n):\n",
        "  if n == 0:\n",
        "    return []\n",
        "  elif n == 1:\n",
        "    return [0]\n",
        "\n",
        "  fib_list = [0, 1]\n",
        "  for i in range(n-2):\n",
        "    fib_list.append(fib_list[-1] + fib_list[-2])\n",
        "  return fib_list"
      ]
    },
    {
      "cell_type": "code",
      "execution_count": null,
      "metadata": {
        "deletable": false,
        "editable": false,
        "id": "CAt3q6Ab67t4",
        "colab": {
          "base_uri": "https://localhost:8080/",
          "height": 46
        },
        "outputId": "4d3e6e96-f25e-4a02-9f57-28dedaeb17a0"
      },
      "outputs": [
        {
          "output_type": "execute_result",
          "data": {
            "text/plain": [
              "q7 results: All test cases passed!"
            ],
            "text/html": [
              "<p><strong><pre style='display: inline;'>q7</pre></strong> passed! 🌈</p>"
            ]
          },
          "metadata": {},
          "execution_count": 81
        }
      ],
      "source": [
        "grader.check(\"q7\")"
      ]
    },
    {
      "cell_type": "markdown",
      "metadata": {
        "deletable": false,
        "editable": false,
        "id": "ayPR1kcQ67t4"
      },
      "source": [
        "### 8. Write a Python Program that defines a function to Remove Vowels From a String\n",
        "\n",
        "* You can initialize a string of your choice\n",
        "* Define the function\n",
        "* Use a for loop to return an updated string with the vowels removed.\n",
        "\n",
        "_Points:_ 10"
      ]
    },
    {
      "cell_type": "code",
      "execution_count": null,
      "metadata": {
        "tags": [],
        "id": "gkpiAp3q67t4"
      },
      "outputs": [],
      "source": [
        "def remove_vowels(input_str):\n",
        "  vowels = ['A', 'E', 'I', 'O', 'U', 'a', 'e', 'i', 'o', 'u']\n",
        "  new_str = \"\"\n",
        "  for i in range(len(input_str)):\n",
        "    if input_str[i] not in vowels:\n",
        "      new_str += input_str[i]\n",
        "  return new_str\n",
        "\n"
      ]
    },
    {
      "cell_type": "code",
      "execution_count": null,
      "metadata": {
        "deletable": false,
        "editable": false,
        "id": "NnOOZ11w67t4",
        "colab": {
          "base_uri": "https://localhost:8080/",
          "height": 46
        },
        "outputId": "e4c82e2a-6083-4746-9605-7e30f62961b3"
      },
      "outputs": [
        {
          "output_type": "execute_result",
          "data": {
            "text/plain": [
              "q8 results: All test cases passed!"
            ],
            "text/html": [
              "<p><strong><pre style='display: inline;'>q8</pre></strong> passed! 💯</p>"
            ]
          },
          "metadata": {},
          "execution_count": 87
        }
      ],
      "source": [
        "grader.check(\"q8\")"
      ]
    },
    {
      "cell_type": "markdown",
      "metadata": {
        "deletable": false,
        "editable": false,
        "id": "x1_c_npd67t4"
      },
      "source": [
        "### 9. Write a program to define a function that takes two numbers as arguments and returns the sum of all numbers between the arguments passed (exclusive, i.e. excluding the limits).\n",
        "\n",
        "* You can define a range of your choice\n",
        "* Define the function\n",
        "* Use a for loop to add numbers within the range(exclusive)\n",
        "\n",
        "_Points:_ 10"
      ]
    },
    {
      "cell_type": "code",
      "execution_count": null,
      "metadata": {
        "tags": [],
        "id": "0tKHpFWu67t5",
        "colab": {
          "base_uri": "https://localhost:8080/"
        },
        "outputId": "48b75a0b-5ad3-447c-e1dd-05d495a7fab8"
      },
      "outputs": [
        {
          "output_type": "stream",
          "name": "stdout",
          "text": [
            "9\n"
          ]
        }
      ],
      "source": [
        "def sum(a, b):\n",
        "  range_sum = 0\n",
        "  for i in range(a+1, b):\n",
        "    range_sum += i\n",
        "  return range_sum\n",
        "\n",
        "print(sum(1,5))"
      ]
    },
    {
      "cell_type": "code",
      "execution_count": null,
      "metadata": {
        "deletable": false,
        "editable": false,
        "id": "eZm1nRGL67t5",
        "colab": {
          "base_uri": "https://localhost:8080/",
          "height": 46
        },
        "outputId": "d41b1d3b-d748-4ff4-f15c-af1af361e6ab"
      },
      "outputs": [
        {
          "output_type": "execute_result",
          "data": {
            "text/plain": [
              "q9 results: All test cases passed!"
            ],
            "text/html": [
              "<p><strong><pre style='display: inline;'>q9</pre></strong> passed! 🚀</p>"
            ]
          },
          "metadata": {},
          "execution_count": 95
        }
      ],
      "source": [
        "grader.check(\"q9\")"
      ]
    },
    {
      "cell_type": "markdown",
      "source": [
        "<!-- BEGIN QUESTION -->\n",
        "\n",
        "### 10. Define your own Python function!"
      ],
      "metadata": {
        "id": "HymEgeotdsBH"
      }
    },
    {
      "cell_type": "markdown",
      "source": [
        "#### Part A\n",
        "In Python, functions are blocks of code that only run when they are called. Functions are programmed to complete a specific task. You can input data, called parameters, into functions. Functions can also return data as a result.\n",
        "\n",
        "Write a function with the following components:\n",
        "\n",
        "* Pass a list as the function parameter. The list can be composed of any data type (int, string, float, etc.)\n",
        "* At least one conditional (if/else/elif)\n",
        "* One loop (ex. for, while, do-while)\n",
        "* Returns one or more values. This value can be a list or a single element.\n",
        "\n",
        "\n",
        "Ensure the following:\n",
        "* Your program contains all the components listed above.\n",
        "* You test the function by calling it outside of the function.\n",
        "* Your program runs without any errors.\n",
        "\n",
        "_Points:_ 10"
      ],
      "metadata": {
        "id": "gUvdVs0jkirw"
      }
    },
    {
      "cell_type": "code",
      "source": [
        "#Find numbers that add up to target in the list. Exactly one answer.\n",
        "def twoSum(nums, target):\n",
        "  h_map = {}\n",
        "  for i in range(len(nums)):\n",
        "    if target - nums[i] in h_map:\n",
        "      return [h_map[target - nums[i]], i]\n",
        "    else:\n",
        "      h_map[nums[i]] = i\n",
        "\n",
        "print(twoSum([1,4,12,25], target = 13))\n",
        "print(twoSum([3, 7, 42, 94], target = 101))\n",
        "\n",
        "\n",
        "\n"
      ],
      "metadata": {
        "id": "JSNs6mq0dryo",
        "colab": {
          "base_uri": "https://localhost:8080/"
        },
        "outputId": "4b5b4696-a368-4167-bc36-ee1e9a6570a4"
      },
      "execution_count": null,
      "outputs": [
        {
          "output_type": "stream",
          "name": "stdout",
          "text": [
            "[0, 2]\n",
            "[1, 3]\n"
          ]
        }
      ]
    },
    {
      "cell_type": "markdown",
      "source": [
        "#### Part B\n",
        "Record a video, no more than 3 minutes long.\n",
        "\n",
        "* Explain the function at a high level. We want you to explain the flow of code, including the order in which the lines of code are executed.\n",
        "* Explain at least two of the required components. For example, you could describe your conditional statement and what your loop does.\n",
        "\n",
        "You can reference the example video here: https://drive.google.com/file/d/1LragCuaHO_eVMm1EDfFv7wqQcrC86NuW/view?usp=sharing"
      ],
      "metadata": {
        "id": "HRGkf5Lel7m6"
      }
    },
    {
      "cell_type": "markdown",
      "source": [
        "Upload the recorded video to your drive and paste the shareable link in the cell below.\n",
        "\n",
        "Note: Ensure that we are able to view the video.\n",
        "\n",
        "_Points:_ 10"
      ],
      "metadata": {
        "id": "2xvp0J7mZtvk"
      }
    },
    {
      "cell_type": "code",
      "source": [
        "#https://drive.google.com/file/d/1348c1gO4M8BdsDV4rkMO73ArEwtLryIo/view?usp=drive_link"
      ],
      "metadata": {
        "id": "ArT39TtpaI5u"
      },
      "execution_count": null,
      "outputs": []
    },
    {
      "cell_type": "markdown",
      "metadata": {
        "deletable": false,
        "editable": false,
        "id": "Mo1MGROz67t5"
      },
      "source": [
        "<!-- END QUESTION -->\n",
        "\n",
        "### Submission\n",
        "\n",
        "Before you submit your notebook, ensure that you've run all the cells sequentially to display images, graphs, and outputs correctly. Take the time to review your solutions and evaluate using the public test cases. Once you're satisfied, save your notebook by navigating to \"File\" in the Colab Notebook menu and selecting \"Save\" or using the keyboard shortcut (usually Ctrl + S or Cmd + S).\n",
        "\n",
        "To submit, export your notebook as an .ipynb file. Ensure it's saved with the same name as the assignment. Then, upload this .ipynb file to Gradescope. Remember to submit the correct version.\n",
        "\n",
        "Please save your work before exporting it, and if you encounter any technical issues or have questions about the submission process, reach out to the course staff for assistance."
      ]
    },
    {
      "cell_type": "markdown",
      "metadata": {
        "deletable": false,
        "editable": false,
        "id": "OqUIqRkY67t5"
      },
      "source": [
        "---\n",
        "\n",
        "To double-check your work for questions 1-9, the cell below will rerun all of the autograder tests."
      ]
    },
    {
      "cell_type": "code",
      "execution_count": null,
      "metadata": {
        "deletable": false,
        "editable": false,
        "id": "zl6ckvbc67t5",
        "colab": {
          "base_uri": "https://localhost:8080/"
        },
        "outputId": "6e2e45e2-cec3-445c-d522-5f25d5b5ae8b"
      },
      "outputs": [
        {
          "output_type": "execute_result",
          "data": {
            "text/plain": [
              "q1 results: All test cases passed!\n",
              "\n",
              "q2 results: All test cases passed!\n",
              "\n",
              "q3 results: All test cases passed!\n",
              "\n",
              "q5 results: All test cases passed!\n",
              "\n",
              "q6 results: All test cases passed!\n",
              "\n",
              "q7 results: All test cases passed!\n",
              "\n",
              "q8 results: All test cases passed!\n",
              "\n",
              "q9 results: All test cases passed!"
            ]
          },
          "metadata": {},
          "execution_count": 100
        }
      ],
      "source": [
        "grader.check_all()"
      ]
    },
    {
      "cell_type": "code",
      "source": [],
      "metadata": {
        "id": "v11tomtyVhTU"
      },
      "execution_count": null,
      "outputs": []
    },
    {
      "cell_type": "code",
      "source": [],
      "metadata": {
        "id": "PUeT65qJVhqf"
      },
      "execution_count": null,
      "outputs": []
    },
    {
      "cell_type": "code",
      "source": [],
      "metadata": {
        "id": "SP8VS3Q-Vhym"
      },
      "execution_count": null,
      "outputs": []
    }
  ],
  "metadata": {
    "colab": {
      "provenance": [],
      "include_colab_link": true
    },
    "kernelspec": {
      "display_name": "Python 3",
      "language": "python",
      "name": "python3"
    },
    "language_info": {
      "codemirror_mode": {
        "name": "ipython",
        "version": 3
      },
      "file_extension": ".py",
      "mimetype": "text/x-python",
      "name": "python",
      "nbconvert_exporter": "python",
      "pygments_lexer": "ipython3",
      "version": "3.8.18"
    },
    "otter": {
      "OK_FORMAT": true,
      "tests": {
        "q1": {
          "name": "q1",
          "points": 5,
          "suites": [
            {
              "cases": [
                {
                  "code": ">>> assert type(my_int) == str\n",
                  "hidden": false,
                  "locked": false
                },
                {
                  "code": ">>> assert type(my_str) == int\n",
                  "hidden": false,
                  "locked": false
                },
                {
                  "code": ">>> assert my_int == \"Hi\"\n",
                  "hidden": false,
                  "locked": false
                },
                {
                  "code": ">>> assert my_str == 5\n",
                  "hidden": false,
                  "locked": false
                }
              ],
              "scored": true,
              "setup": "",
              "teardown": "",
              "type": "doctest"
            }
          ]
        },
        "q2": {
          "name": "q2",
          "points": 5,
          "suites": [
            {
              "cases": [
                {
                  "code": ">>> assert calc_diag(3, 4) == 5\n",
                  "hidden": false,
                  "locked": false
                }
              ],
              "scored": true,
              "setup": "",
              "teardown": "",
              "type": "doctest"
            }
          ]
        },
        "q3": {
          "name": "q3",
          "points": 10,
          "suites": [
            {
              "cases": [
                {
                  "code": ">>> assert is_divisible_by_3(9) == True\n",
                  "hidden": false,
                  "locked": false
                },
                {
                  "code": ">>> assert is_divisible_by_3(-12) == True\n",
                  "hidden": false,
                  "locked": false
                }
              ],
              "scored": true,
              "setup": "",
              "teardown": "",
              "type": "doctest"
            }
          ]
        },
        "q5": {
          "name": "q5",
          "points": 10,
          "suites": [
            {
              "cases": [
                {
                  "code": ">>> assert if_palindrome(\"racecar\") == True\n",
                  "hidden": false,
                  "locked": false
                },
                {
                  "code": ">>> assert if_palindrome(\"hello\") == False\n",
                  "hidden": false,
                  "locked": false
                }
              ],
              "scored": true,
              "setup": "",
              "teardown": "",
              "type": "doctest"
            }
          ]
        },
        "q6": {
          "name": "q6",
          "points": 5,
          "suites": [
            {
              "cases": [
                {
                  "code": ">>> assert len(sol) == 6\n",
                  "hidden": false,
                  "locked": false
                },
                {
                  "code": ">>> assert sol == [5, 10, 15, 20, 25, 30]\n>>> \n",
                  "hidden": false,
                  "locked": false
                }
              ],
              "scored": true,
              "setup": "",
              "teardown": "",
              "type": "doctest"
            }
          ]
        },
        "q7": {
          "name": "q7",
          "points": 15,
          "suites": [
            {
              "cases": [
                {
                  "code": ">>> assert fibonacci(1) == [0]\n",
                  "hidden": false,
                  "locked": false
                },
                {
                  "code": ">>> assert fibonacci(5) == [0, 1, 1, 2, 3]\n",
                  "hidden": false,
                  "locked": false
                }
              ],
              "scored": true,
              "setup": "",
              "teardown": "",
              "type": "doctest"
            }
          ]
        },
        "q8": {
          "name": "q8",
          "points": 10,
          "suites": [
            {
              "cases": [
                {
                  "code": ">>> assert remove_vowels(\"Hello, World!\") == \"Hll, Wrld!\"\n",
                  "hidden": false,
                  "locked": false
                },
                {
                  "code": ">>> assert remove_vowels(\"Python Programming\") == \"Pythn Prgrmmng\"\n",
                  "hidden": false,
                  "locked": false
                }
              ],
              "scored": true,
              "setup": "",
              "teardown": "",
              "type": "doctest"
            }
          ]
        },
        "q9": {
          "name": "q9",
          "points": 10,
          "suites": [
            {
              "cases": [
                {
                  "code": ">>> assert sum(1, 5) == 9\n>>> \n",
                  "hidden": false,
                  "locked": false
                },
                {
                  "code": ">>> assert sum(-3, 3) == 0\n",
                  "hidden": false,
                  "locked": false
                }
              ],
              "scored": true,
              "setup": "",
              "teardown": "",
              "type": "doctest"
            }
          ]
        }
      }
    }
  },
  "nbformat": 4,
  "nbformat_minor": 0
}